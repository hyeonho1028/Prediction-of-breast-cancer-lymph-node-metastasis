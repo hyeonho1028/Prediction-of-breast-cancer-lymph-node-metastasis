{
 "cells": [
  {
   "cell_type": "code",
   "execution_count": 1,
   "metadata": {},
   "outputs": [],
   "source": [
    "import numpy as np\n",
    "import pandas as pd\n",
    "\n",
    "import cv2\n",
    "\n",
    "import matplotlib.pyplot as plt\n",
    "import seaborn as sns\n",
    "\n",
    "from sklearn.model_selection import StratifiedKFold"
   ]
  },
  {
   "cell_type": "code",
   "execution_count": 2,
   "metadata": {},
   "outputs": [],
   "source": [
    "data_path = '../open/'\n",
    "info = pd.read_excel(data_path+'clinical_info.xlsx')\n",
    "\n",
    "df_train = pd.read_csv(data_path+'train.csv')\n",
    "df_test = pd.read_csv(data_path+'test.csv')\n",
    "sub = pd.read_csv(data_path+'sample_submission.csv')"
   ]
  },
  {
   "cell_type": "code",
   "execution_count": 3,
   "metadata": {},
   "outputs": [
    {
     "data": {
      "text/html": [
       "<div>\n",
       "<style scoped>\n",
       "    .dataframe tbody tr th:only-of-type {\n",
       "        vertical-align: middle;\n",
       "    }\n",
       "\n",
       "    .dataframe tbody tr th {\n",
       "        vertical-align: top;\n",
       "    }\n",
       "\n",
       "    .dataframe thead th {\n",
       "        text-align: right;\n",
       "    }\n",
       "</style>\n",
       "<table border=\"1\" class=\"dataframe\">\n",
       "  <thead>\n",
       "    <tr style=\"text-align: right;\">\n",
       "      <th></th>\n",
       "      <th>항목</th>\n",
       "      <th>코딩</th>\n",
       "      <th>설명</th>\n",
       "    </tr>\n",
       "  </thead>\n",
       "  <tbody>\n",
       "    <tr>\n",
       "      <th>0</th>\n",
       "      <td>ID</td>\n",
       "      <td>NaN</td>\n",
       "      <td>부여번호</td>\n",
       "    </tr>\n",
       "    <tr>\n",
       "      <th>1</th>\n",
       "      <td>나이</td>\n",
       "      <td>NaN</td>\n",
       "      <td>진단시 나이</td>\n",
       "    </tr>\n",
       "    <tr>\n",
       "      <th>2</th>\n",
       "      <td>수술연월일</td>\n",
       "      <td>연-월-일</td>\n",
       "      <td>NaN</td>\n",
       "    </tr>\n",
       "    <tr>\n",
       "      <th>3</th>\n",
       "      <td>진단명</td>\n",
       "      <td>1: ductal\\n2: lobular\\n3. mucinous \\n4. other</td>\n",
       "      <td>histologic type</td>\n",
       "    </tr>\n",
       "    <tr>\n",
       "      <th>4</th>\n",
       "      <td>암의 위치</td>\n",
       "      <td>1: Right\\n2: Left\\n3: Both</td>\n",
       "      <td>NaN</td>\n",
       "    </tr>\n",
       "    <tr>\n",
       "      <th>5</th>\n",
       "      <td>암의 개수</td>\n",
       "      <td>1: single\\n2: multiple</td>\n",
       "      <td>NaN</td>\n",
       "    </tr>\n",
       "    <tr>\n",
       "      <th>6</th>\n",
       "      <td>암의 장경</td>\n",
       "      <td>NaN</td>\n",
       "      <td>암 Size (mm), 여러 개의 암일 경우 가장 큰 종양의 장경</td>\n",
       "    </tr>\n",
       "    <tr>\n",
       "      <th>7</th>\n",
       "      <td>NG</td>\n",
       "      <td>1: NG1\\n2: NG2\\n3: NG3</td>\n",
       "      <td>1은 핵의 모양이 정상에 가까운 경우, 2는 중간, 3은 정상으로부터 매우 달라진경...</td>\n",
       "    </tr>\n",
       "    <tr>\n",
       "      <th>8</th>\n",
       "      <td>HG</td>\n",
       "      <td>1: HG1\\n2: HG2\\n3: HG3\\n4. not graded</td>\n",
       "      <td>Grade 1 (scores of 3, 4, or 5): 조직학적 분화도가 좋아서 ...</td>\n",
       "    </tr>\n",
       "    <tr>\n",
       "      <th>9</th>\n",
       "      <td>HG_score_1</td>\n",
       "      <td>1: score 1\\n2: score 2\\n3: score 3\\n4: not graded</td>\n",
       "      <td>(Tubule formation)\\nScore 1 (&gt;75% of tumor are...</td>\n",
       "    </tr>\n",
       "    <tr>\n",
       "      <th>10</th>\n",
       "      <td>HG_score_2</td>\n",
       "      <td>1: score 1\\n2: score 2\\n3: score 3\\n4: not graded</td>\n",
       "      <td>(Nuclear Pleomorphism)\\nScore 1 (nuclei small ...</td>\n",
       "    </tr>\n",
       "    <tr>\n",
       "      <th>11</th>\n",
       "      <td>HG_score_3</td>\n",
       "      <td>1: score 1\\n2: score 2\\n3: score 3\\n4: not graded</td>\n",
       "      <td>(Mitotic Rate)\\nScore 1 (≤3 mitoses per mm2)\\n...</td>\n",
       "    </tr>\n",
       "    <tr>\n",
       "      <th>12</th>\n",
       "      <td>DCIS_or_LCIS_여부</td>\n",
       "      <td>0: no DCIS/LCIS\\n1: DCIS/LCIS present, EIC(-)\\...</td>\n",
       "      <td>제자리암종 (DCIS)의 유무</td>\n",
       "    </tr>\n",
       "    <tr>\n",
       "      <th>13</th>\n",
       "      <td>DCIS_or_LCIS_type</td>\n",
       "      <td>1: non-comedo\\n2: comedo</td>\n",
       "      <td>제자리 암종내 괴사 유무</td>\n",
       "    </tr>\n",
       "    <tr>\n",
       "      <th>14</th>\n",
       "      <td>T_category</td>\n",
       "      <td>0: Tis\\n1: T1\\n2: T2\\n3: T3\\n4: T4</td>\n",
       "      <td>pTis (DCIS): Ductal carcinoma in situ\\npT1: Tu...</td>\n",
       "    </tr>\n",
       "    <tr>\n",
       "      <th>15</th>\n",
       "      <td>ER</td>\n",
       "      <td>0: -\\n1: +</td>\n",
       "      <td>Negative: &lt;1% immunoreactive tumor cells prese...</td>\n",
       "    </tr>\n",
       "    <tr>\n",
       "      <th>16</th>\n",
       "      <td>ER_Allred_score</td>\n",
       "      <td>NaN</td>\n",
       "      <td>정수로 기입 (0 ~ 8) : AS = PS + IS</td>\n",
       "    </tr>\n",
       "    <tr>\n",
       "      <th>17</th>\n",
       "      <td>PR</td>\n",
       "      <td>0: -\\n1: +</td>\n",
       "      <td>Negative: &lt;1% immunoreactive tumor cells prese...</td>\n",
       "    </tr>\n",
       "    <tr>\n",
       "      <th>18</th>\n",
       "      <td>PR_Allred_score</td>\n",
       "      <td>NaN</td>\n",
       "      <td>정수로 기입 (0 ~ 8) : AS = PS + IS</td>\n",
       "    </tr>\n",
       "    <tr>\n",
       "      <th>19</th>\n",
       "      <td>KI-67_LI_percent</td>\n",
       "      <td>NaN</td>\n",
       "      <td>정수로 0~100 범위로 기입. 세포증식의 수치를 표시한 항목입니다.</td>\n",
       "    </tr>\n",
       "    <tr>\n",
       "      <th>20</th>\n",
       "      <td>HER2</td>\n",
       "      <td>0: -\\n1: +</td>\n",
       "      <td>참고: IHC 와 SISH 까지 모두 고려한 결과로 기록, 세포성장이자 수용체의 발...</td>\n",
       "    </tr>\n",
       "    <tr>\n",
       "      <th>21</th>\n",
       "      <td>HER2_IHC</td>\n",
       "      <td>0: Negative (0)\\n1: Negative (1+)\\n2: Equivoca...</td>\n",
       "      <td>NaN</td>\n",
       "    </tr>\n",
       "    <tr>\n",
       "      <th>22</th>\n",
       "      <td>HER2_SISH</td>\n",
       "      <td>0: not amplified (negative)\\n1: amplified (pos...</td>\n",
       "      <td>[Dual Probe ISH Group Definitions]\\n- Group 1 ...</td>\n",
       "    </tr>\n",
       "    <tr>\n",
       "      <th>23</th>\n",
       "      <td>HER2_SISH_ratio</td>\n",
       "      <td>NaN</td>\n",
       "      <td>소수점 첫째자리까지 숫자로 기입</td>\n",
       "    </tr>\n",
       "    <tr>\n",
       "      <th>24</th>\n",
       "      <td>BRCA_mutation</td>\n",
       "      <td>0: No BRCA1, BRCA2 mutation \\n1: BRCA1 mutatio...</td>\n",
       "      <td>검사 시행 안한 경우 빈칸으로, 시행했으나 mutation (의미있는mutation...</td>\n",
       "    </tr>\n",
       "    <tr>\n",
       "      <th>25</th>\n",
       "      <td>N_category</td>\n",
       "      <td>0: 임파선(림프절) 전이 X\\n1: 임파선(림프절) 전이 O</td>\n",
       "      <td>NaN</td>\n",
       "    </tr>\n",
       "  </tbody>\n",
       "</table>\n",
       "</div>"
      ],
      "text/plain": [
       "                   항목                                                 코딩  \\\n",
       "0                  ID                                                NaN   \n",
       "1                  나이                                                NaN   \n",
       "2               수술연월일                                              연-월-일   \n",
       "3                 진단명      1: ductal\\n2: lobular\\n3. mucinous \\n4. other   \n",
       "4               암의 위치                         1: Right\\n2: Left\\n3: Both   \n",
       "5               암의 개수                             1: single\\n2: multiple   \n",
       "6               암의 장경                                                NaN   \n",
       "7                  NG                             1: NG1\\n2: NG2\\n3: NG3   \n",
       "8                  HG              1: HG1\\n2: HG2\\n3: HG3\\n4. not graded   \n",
       "9          HG_score_1  1: score 1\\n2: score 2\\n3: score 3\\n4: not graded   \n",
       "10         HG_score_2  1: score 1\\n2: score 2\\n3: score 3\\n4: not graded   \n",
       "11         HG_score_3  1: score 1\\n2: score 2\\n3: score 3\\n4: not graded   \n",
       "12    DCIS_or_LCIS_여부  0: no DCIS/LCIS\\n1: DCIS/LCIS present, EIC(-)\\...   \n",
       "13  DCIS_or_LCIS_type                           1: non-comedo\\n2: comedo   \n",
       "14         T_category                 0: Tis\\n1: T1\\n2: T2\\n3: T3\\n4: T4   \n",
       "15                 ER                                         0: -\\n1: +   \n",
       "16    ER_Allred_score                                                NaN   \n",
       "17                 PR                                         0: -\\n1: +   \n",
       "18    PR_Allred_score                                                NaN   \n",
       "19   KI-67_LI_percent                                                NaN   \n",
       "20               HER2                                         0: -\\n1: +   \n",
       "21           HER2_IHC  0: Negative (0)\\n1: Negative (1+)\\n2: Equivoca...   \n",
       "22          HER2_SISH  0: not amplified (negative)\\n1: amplified (pos...   \n",
       "23    HER2_SISH_ratio                                                NaN   \n",
       "24      BRCA_mutation  0: No BRCA1, BRCA2 mutation \\n1: BRCA1 mutatio...   \n",
       "25         N_category                 0: 임파선(림프절) 전이 X\\n1: 임파선(림프절) 전이 O   \n",
       "\n",
       "                                                   설명  \n",
       "0                                                부여번호  \n",
       "1                                              진단시 나이  \n",
       "2                                                 NaN  \n",
       "3                                     histologic type  \n",
       "4                                                 NaN  \n",
       "5                                                 NaN  \n",
       "6                암 Size (mm), 여러 개의 암일 경우 가장 큰 종양의 장경  \n",
       "7   1은 핵의 모양이 정상에 가까운 경우, 2는 중간, 3은 정상으로부터 매우 달라진경...  \n",
       "8   Grade 1 (scores of 3, 4, or 5): 조직학적 분화도가 좋아서 ...  \n",
       "9   (Tubule formation)\\nScore 1 (>75% of tumor are...  \n",
       "10  (Nuclear Pleomorphism)\\nScore 1 (nuclei small ...  \n",
       "11  (Mitotic Rate)\\nScore 1 (≤3 mitoses per mm2)\\n...  \n",
       "12                                  제자리암종 (DCIS)의 유무   \n",
       "13                                     제자리 암종내 괴사 유무   \n",
       "14  pTis (DCIS): Ductal carcinoma in situ\\npT1: Tu...  \n",
       "15  Negative: <1% immunoreactive tumor cells prese...  \n",
       "16                     정수로 기입 (0 ~ 8) : AS = PS + IS   \n",
       "17  Negative: <1% immunoreactive tumor cells prese...  \n",
       "18                     정수로 기입 (0 ~ 8) : AS = PS + IS   \n",
       "19            정수로 0~100 범위로 기입. 세포증식의 수치를 표시한 항목입니다.   \n",
       "20  참고: IHC 와 SISH 까지 모두 고려한 결과로 기록, 세포성장이자 수용체의 발...  \n",
       "21                                                NaN  \n",
       "22  [Dual Probe ISH Group Definitions]\\n- Group 1 ...  \n",
       "23                                  소수점 첫째자리까지 숫자로 기입  \n",
       "24  검사 시행 안한 경우 빈칸으로, 시행했으나 mutation (의미있는mutation...  \n",
       "25                                                NaN  "
      ]
     },
     "execution_count": 3,
     "metadata": {},
     "output_type": "execute_result"
    }
   ],
   "source": [
    "info"
   ]
  },
  {
   "cell_type": "code",
   "execution_count": 4,
   "metadata": {},
   "outputs": [],
   "source": [
    "df_train = pd.read_csv(data_path+'train.csv')\n",
    "df_test = pd.read_csv(data_path+'test.csv')\n",
    "\n",
    "# preprocess outlier\n",
    "df_train['PR_Allred_score'] = df_train['PR_Allred_score'].where((0<=df_train['PR_Allred_score']) & (df_train['PR_Allred_score']<=8))\n",
    "\n",
    "for col in ['NG', 'HG', 'HG_score_1', 'HG_score_2', 'HG_score_3', 'DCIS_or_LCIS_type', 'ER_Allred_score', 'PR_Allred_score', 'HER2_SISH_ratio']:\n",
    "    df_train[col].fillna(0, inplace=True)\n",
    "    df_test[col].fillna(0, inplace=True)\n",
    "\n",
    "df_test['암의 장경'].fillna(df_train['암의 장경'].median(), inplace=True)\n",
    "df_train['암의 장경'].fillna(df_train['암의 장경'].median(), inplace=True)\n",
    "\n",
    "df_train['BRCA_mutation'] = df_train['BRCA_mutation'].fillna(1)\n",
    "df_test['BRCA_mutation'] = df_test['BRCA_mutation'].fillna(1)\n",
    "\n",
    "for col in ['T_category', 'HER2', 'HER2_IHC', 'HER2_SISH', 'KI-67_LI_percent']:\n",
    "    df_train[col].fillna(-1, inplace=True)\n",
    "    df_test[col].fillna(-1, inplace=True)\n",
    "\n",
    "    df_train[col]+=1\n",
    "    df_test[col]+=1\n",
    "\n",
    "df_train[['ER', 'PR']] = df_train[['ER', 'PR']].fillna(0)\n",
    "# remove ER, PR nan value\n",
    "# df_train = df_train.drop(266).reset_index(drop=True)"
   ]
  },
  {
   "cell_type": "code",
   "execution_count": 1,
   "metadata": {},
   "outputs": [
    {
     "data": {
      "text/plain": [
       "0.002"
      ]
     },
     "execution_count": 1,
     "metadata": {},
     "output_type": "execute_result"
    }
   ],
   "source": [
    "2e-3"
   ]
  },
  {
   "cell_type": "code",
   "execution_count": 2,
   "metadata": {},
   "outputs": [],
   "source": [
    "import torch\n",
    "import torch.nn as nn"
   ]
  },
  {
   "cell_type": "code",
   "execution_count": 18,
   "metadata": {},
   "outputs": [],
   "source": [
    "a = torch.rand([4, 2])"
   ]
  },
  {
   "cell_type": "code",
   "execution_count": 25,
   "metadata": {},
   "outputs": [
    {
     "data": {
      "text/plain": [
       "tensor([[0.9535, 0.8353],\n",
       "        [0.6862, 0.1089],\n",
       "        [0.7766, 0.9861],\n",
       "        [0.3188, 0.0976]])"
      ]
     },
     "execution_count": 25,
     "metadata": {},
     "output_type": "execute_result"
    }
   ],
   "source": [
    "a"
   ]
  },
  {
   "cell_type": "code",
   "execution_count": 27,
   "metadata": {},
   "outputs": [
    {
     "data": {
      "text/plain": [
       "tensor([[0.5295, 0.4705],\n",
       "        [0.6404, 0.3596],\n",
       "        [0.4478, 0.5522],\n",
       "        [0.5551, 0.4449]])"
      ]
     },
     "execution_count": 27,
     "metadata": {},
     "output_type": "execute_result"
    }
   ],
   "source": [
    "torch.softmax(a, dim=1)"
   ]
  },
  {
   "cell_type": "code",
   "execution_count": null,
   "metadata": {},
   "outputs": [],
   "source": []
  },
  {
   "cell_type": "code",
   "execution_count": null,
   "metadata": {},
   "outputs": [],
   "source": []
  },
  {
   "cell_type": "code",
   "execution_count": null,
   "metadata": {},
   "outputs": [],
   "source": []
  },
  {
   "cell_type": "code",
   "execution_count": 393,
   "metadata": {},
   "outputs": [],
   "source": [
    "pd.options.display.max_columns=100"
   ]
  },
  {
   "cell_type": "code",
   "execution_count": 394,
   "metadata": {},
   "outputs": [],
   "source": [
    "from lightgbm import LGBMClassifier\n",
    "from catboost import CatBoostClassifier"
   ]
  },
  {
   "cell_type": "code",
   "execution_count": 396,
   "metadata": {},
   "outputs": [
    {
     "data": {
      "text/plain": [
       "Series([], dtype: int64)"
      ]
     },
     "execution_count": 396,
     "metadata": {},
     "output_type": "execute_result"
    }
   ],
   "source": [
    "df_test.isnull().sum()[lambda x: x>0]"
   ]
  },
  {
   "cell_type": "code",
   "execution_count": null,
   "metadata": {},
   "outputs": [],
   "source": []
  },
  {
   "cell_type": "code",
   "execution_count": null,
   "metadata": {},
   "outputs": [],
   "source": []
  },
  {
   "cell_type": "code",
   "execution_count": null,
   "metadata": {},
   "outputs": [],
   "source": []
  },
  {
   "cell_type": "code",
   "execution_count": 417,
   "metadata": {},
   "outputs": [
    {
     "name": "stdout",
     "output_type": "stream",
     "text": [
      "start fold : 0\n",
      "start fold : 1\n",
      "start fold : 2\n",
      "start fold : 3\n",
      "start fold : 4\n",
      "start fold : 5\n",
      "start fold : 6\n",
      "start fold : 7\n",
      "start fold : 8\n",
      "start fold : 9\n"
     ]
    }
   ],
   "source": [
    "df_train = pd.read_csv(data_path+'train.csv')\n",
    "df_test = pd.read_csv(data_path+'test.csv')\n",
    "\n",
    "# preprocess outlier\n",
    "df_train['PR_Allred_score'] = df_train['PR_Allred_score'].where((0<=df_train['PR_Allred_score']) & (df_train['PR_Allred_score']<=8))\n",
    "\n",
    "for col in ['NG', 'HG', 'HG_score_1', 'HG_score_2', 'HG_score_3', 'DCIS_or_LCIS_type', 'ER_Allred_score', 'PR_Allred_score', 'HER2_SISH_ratio']:\n",
    "    df_train[col].fillna(0, inplace=True)\n",
    "    df_test[col].fillna(0, inplace=True)\n",
    "\n",
    "df_test['암의 장경'].fillna(df_train['암의 장경'].median(), inplace=True)\n",
    "df_train['암의 장경'].fillna(df_train['암의 장경'].median(), inplace=True)\n",
    "\n",
    "df_train['BRCA_mutation'] = df_train['BRCA_mutation'].fillna(1)\n",
    "df_test['BRCA_mutation'] = df_test['BRCA_mutation'].fillna(1)\n",
    "\n",
    "for col in ['T_category', 'HER2', 'HER2_IHC', 'HER2_SISH', 'KI-67_LI_percent']:\n",
    "    df_train[col].fillna(-1, inplace=True)\n",
    "    df_test[col].fillna(-1, inplace=True)\n",
    "\n",
    "    df_train[col]+=1\n",
    "    df_test[col]+=1\n",
    "\n",
    "# remove ER, PR nan value\n",
    "df_train = df_train.drop(266).reset_index(drop=True)\n",
    "\n",
    "\n",
    "FOLDS = 10\n",
    "\n",
    "def basic_set():\n",
    "    use_features = [\n",
    "                    '나이', '진단명', '암의 위치', '암의 개수', '암의 장경', 'NG', 'HG', 'HG_score_1', 'HG_score_2', 'HG_score_3',\n",
    "                    'DCIS_or_LCIS_여부', 'DCIS_or_LCIS_type', 'T_category', \n",
    "                    'ER', 'ER_Allred_score', 'PR', 'PR_Allred_score', \n",
    "                    'KI-67_LI_percent', \n",
    "                    'HER2', 'HER2_IHC', 'HER2_SISH', 'HER2_SISH_ratio', 'BRCA_mutation', \n",
    "                    # 'BRCA_mutation2',\n",
    "                    ]\n",
    "\n",
    "    cat_features = ['나이', '진단명', '암의 위치', '암의 개수', '암의 장경', 'NG', 'HG', 'HG_score_1',\n",
    "                            'HG_score_2', 'HG_score_3', 'DCIS_or_LCIS_여부', 'DCIS_or_LCIS_type',\n",
    "                            'T_category', 'ER', 'ER_Allred_score', 'PR', 'PR_Allred_score',\n",
    "                            'HER2', 'HER2_IHC', 'HER2_SISH','BRCA_mutation']\n",
    "    cat_features = ['진단명']\n",
    "    return use_features, cat_features\n",
    "\n",
    "df_train['due_date'] = 2022 - pd.to_datetime(df_train['수술연월일']).dt.year\n",
    "df_test['due_date'] = 2022 - pd.to_datetime(df_test['수술연월일']).dt.year\n",
    "# df_train['due_date2'] = (2022-pd.to_datetime(df_train['수술연월일']).dt.year)*12 + pd.to_datetime(df_train['수술연월일']).dt.month\n",
    "# df_test['due_date2'] = (2022-pd.to_datetime(df_test['수술연월일']).dt.year)*12 + pd.to_datetime(df_test['수술연월일']).dt.month\n",
    "\n",
    "df_train['date_year'] = pd.to_datetime(df_train['수술연월일']).dt.year\n",
    "df_test['date_year'] = pd.to_datetime(df_test['수술연월일']).dt.year\n",
    "\n",
    "# df_train['암의 장경/개수'] = df_train['암의 장경'] / df_train['암의 개수']\n",
    "# df_test['암의 장경/개수'] = df_test['암의 장경'] / df_test['암의 개수']\n",
    "\n",
    "skf = StratifiedKFold(n_splits=FOLDS, random_state=42, shuffle=True)\n",
    "splits = list(skf.split(df_train, df_train['N_category']))\n",
    "# labels = df_train['N_category'].astype(str) + '_' + df_train['due_date'].astype(str)\n",
    "# splits = list(skf.split(df_train, labels))\n",
    "\n",
    "\n",
    "fi_df = pd.DataFrame()\n",
    "oof = np.zeros(len(df_train))\n",
    "preds = np.zeros(len(df_test))\n",
    "\n",
    "for fold in range(FOLDS):\n",
    "    print('start fold :', fold)\n",
    "    test = df_test.copy()\n",
    "    \n",
    "    use_features, cat_features = basic_set()\n",
    "    use_features += ['due_date', 'date_year']\n",
    "    # use_features += ['due_date', 'date_year', '암의 장경/개수']\n",
    "\n",
    "    tt = df_train.loc[splits[fold][0], use_features].reset_index(drop=True)\n",
    "    tt_target = df_train.loc[splits[fold][0], 'N_category'].values\n",
    "    vv = df_train.loc[splits[fold][1], use_features].reset_index(drop=True)\n",
    "    vv_target = df_train.loc[splits[fold][1], 'N_category'].values\n",
    "\n",
    "    for df in [tt, vv, test]:\n",
    "        df['나이'] = pd.cut(df['나이'], [20, 30, 40, 50, 60, 70, 80, 100])\n",
    "        # df['암의 장경'] = pd.cut(df['암의 장경'], [0, 10, 20, 30, 40, 50, 60, 70, 80, 90, 100, 200])\n",
    "        df['암의 장경'] = pd.cut(df['암의 장경'], [0, 20, 40, 60, 80, 100, 200])\n",
    "        # df['암의 장경/개수'] = pd.cut(df['암의 장경/개수'], [0, 10, 20, 30, 40, 50, 60, 70, 80, 90, 100, 200])\n",
    "        # df['KI-67_LI_percent'] = pd.cut(df['KI-67_LI_percent'], [0, 20, 40, 60, 80, 100])\n",
    "        \n",
    "    # for col in ['나이', '암의 장경', '암의 장경/개수']:\n",
    "    # for col in ['나이', '암의 장경', 'KI-67_LI_percent']:\n",
    "    for col in ['나이', '암의 장경']:\n",
    "        tmp_dict = {j:i for i,j in enumerate(np.unique(tt[col].astype(str)))}\n",
    "        tt[col] = tt[col].astype(str).map(tmp_dict)\n",
    "        vv[col] = vv[col].astype(str).map(tmp_dict)\n",
    "        test[col] = test[col].astype(str).map(tmp_dict)\n",
    "    \n",
    "    # tt['암의 장경2'] = tt['암의 장경'].isnull()\n",
    "    # vv['암의 장경2'] = vv['암의 장경'].isnull()\n",
    "    # test['암의 장경2'] = test['암의 장경'].isnull()\n",
    "\n",
    "    # for df in [tt, vv, test]:\n",
    "    #     # df['나이_due_date'] = df['나이'].astype(str) + '_' + df['due_date'].astype(str)\n",
    "    #     df['암'] = df['암의 위치'].astype(str) + '_' + df['암의 장경'].astype(str)\n",
    "    # df = pd.concat([tt, vv])\n",
    "    # tmp_dict = {v:i for i, v in enumerate(np.unique(df['암']))}\n",
    "    # for col in ['암']:\n",
    "    #     tt[col] = tt[col].astype(str).map(tmp_dict)\n",
    "    #     vv[col] = vv[col].astype(str).map(tmp_dict)\n",
    "    #     test[col] = test[col].astype(str).map(tmp_dict)\n",
    "    \n",
    "    # use_features += ['암']\n",
    "    \n",
    "    # tmp_dict = df_train.loc[splits[fold][0]].groupby('due_date')['N_category'].mean()\n",
    "    # tt['진단명_target'] = tt['due_date'].map(tmp_dict)\n",
    "    # vv['진단명_target'] = vv['due_date'].map(tmp_dict)\n",
    "    # tmp_dict = df_train.groupby('due_date')['N_category'].mean()\n",
    "    # test['진단명_target'] = test['due_date'].map(tmp_dict)\n",
    "    # use_features += ['진단명_target']\n",
    "\n",
    "    test = test[use_features].reset_index(drop=True)\n",
    "\n",
    "    # lgb = LGBMClassifier(\n",
    "    #                     n_estimators=5000,\n",
    "    #                     learning_rate=0.03,\n",
    "    #                     max_depth=-1,\n",
    "    #                     num_leaves=64,\n",
    "    #                     )\n",
    "\n",
    "    # lgb.fit(tt, tt_target, eval_set=[(tt, tt_target), (vv, vv_target)], verbose=1000, early_stopping_rounds=100)\n",
    "    # oof[splits[fold][1]] += lgb.predict_proba(vv)[:, 1]\n",
    "    # preds += lgb.predict_proba(test)[:, 1] / 5\n",
    "    # fi_df = pd.concat([fi_df, pd.DataFrame(zip(use_features, lgb.feature_importances_), columns=['feature', 'value'])])\n",
    "    # tt[cat_features] = tt[cat_features].fillna(-99).astype(int)\n",
    "    # vv[cat_features] = vv[cat_features].fillna(-99).astype(int)\n",
    "    cat = CatBoostClassifier(\n",
    "                            n_estimators=5000,\n",
    "                            learning_rate=0.03,\n",
    "                            # objective='logloss',\n",
    "                            # eval_metric='F1',\n",
    "                            # reg_lambda=0.01,\n",
    "                            # random_seed=42,\n",
    "                            allow_writing_files=False,\n",
    "                            logging_level='Silent',\n",
    "                            )\n",
    "    cat.fit(tt, tt_target, eval_set=[(tt, tt_target), (vv, vv_target)], verbose=1000, early_stopping_rounds=500,\n",
    "            # cat_features=cat_features\n",
    "            \n",
    "            )\n",
    "    oof[splits[fold][1]] += cat.predict_proba(vv)[:, 1]\n",
    "    preds += cat.predict_proba(test)[:, 1] / FOLDS\n",
    "    fi_df = pd.concat([fi_df, pd.DataFrame(zip(use_features, cat.feature_importances_), columns=['feature', 'value'])])\n",
    "    \n",
    "    # use_features.remove('암')"
   ]
  },
  {
   "cell_type": "code",
   "execution_count": 423,
   "metadata": {},
   "outputs": [
    {
     "data": {
      "text/plain": [
       "0.8396934282424039"
      ]
     },
     "execution_count": 423,
     "metadata": {},
     "output_type": "execute_result"
    }
   ],
   "source": [
    "from sklearn.metrics import f1_score\n",
    "f1_score(df_train['N_category'],\n",
    "        np.where(oof>0.55, 1, 0),\n",
    "        average='weighted'\n",
    "        )"
   ]
  },
  {
   "cell_type": "code",
   "execution_count": 425,
   "metadata": {},
   "outputs": [
    {
     "data": {
      "text/plain": [
       "0.8396934282424039"
      ]
     },
     "execution_count": 425,
     "metadata": {},
     "output_type": "execute_result"
    }
   ],
   "source": [
    "from sklearn.metrics import f1_score\n",
    "f1_score(df_train['N_category'],\n",
    "        np.where(oof>0.55, 1, 0),\n",
    "        average='weighted'\n",
    "        )"
   ]
  },
  {
   "cell_type": "code",
   "execution_count": 434,
   "metadata": {},
   "outputs": [
    {
     "data": {
      "text/plain": [
       "0.8176384902379277"
      ]
     },
     "execution_count": 434,
     "metadata": {},
     "output_type": "execute_result"
    }
   ],
   "source": [
    "from sklearn.metrics import f1_score\n",
    "f1_score(df_train['N_category'],\n",
    "        np.where(oof>0.4, 1, 0),\n",
    "        average='weighted'\n",
    "        )"
   ]
  },
  {
   "cell_type": "code",
   "execution_count": 414,
   "metadata": {},
   "outputs": [
    {
     "data": {
      "text/html": [
       "<div>\n",
       "<style scoped>\n",
       "    .dataframe tbody tr th:only-of-type {\n",
       "        vertical-align: middle;\n",
       "    }\n",
       "\n",
       "    .dataframe tbody tr th {\n",
       "        vertical-align: top;\n",
       "    }\n",
       "\n",
       "    .dataframe thead th {\n",
       "        text-align: right;\n",
       "    }\n",
       "</style>\n",
       "<table border=\"1\" class=\"dataframe\">\n",
       "  <thead>\n",
       "    <tr style=\"text-align: right;\">\n",
       "      <th></th>\n",
       "      <th>feature</th>\n",
       "      <th>value</th>\n",
       "    </tr>\n",
       "  </thead>\n",
       "  <tbody>\n",
       "    <tr>\n",
       "      <th>19</th>\n",
       "      <td>due_date</td>\n",
       "      <td>16.677493</td>\n",
       "    </tr>\n",
       "    <tr>\n",
       "      <th>18</th>\n",
       "      <td>date_year</td>\n",
       "      <td>13.121424</td>\n",
       "    </tr>\n",
       "    <tr>\n",
       "      <th>14</th>\n",
       "      <td>NG</td>\n",
       "      <td>11.432816</td>\n",
       "    </tr>\n",
       "    <tr>\n",
       "      <th>11</th>\n",
       "      <td>HG_score_2</td>\n",
       "      <td>6.966082</td>\n",
       "    </tr>\n",
       "    <tr>\n",
       "      <th>13</th>\n",
       "      <td>KI-67_LI_percent</td>\n",
       "      <td>5.587786</td>\n",
       "    </tr>\n",
       "    <tr>\n",
       "      <th>22</th>\n",
       "      <td>암의 위치</td>\n",
       "      <td>3.982920</td>\n",
       "    </tr>\n",
       "    <tr>\n",
       "      <th>16</th>\n",
       "      <td>PR_Allred_score</td>\n",
       "      <td>3.761313</td>\n",
       "    </tr>\n",
       "    <tr>\n",
       "      <th>23</th>\n",
       "      <td>암의 장경</td>\n",
       "      <td>3.517789</td>\n",
       "    </tr>\n",
       "    <tr>\n",
       "      <th>1</th>\n",
       "      <td>DCIS_or_LCIS_type</td>\n",
       "      <td>3.505500</td>\n",
       "    </tr>\n",
       "    <tr>\n",
       "      <th>20</th>\n",
       "      <td>나이</td>\n",
       "      <td>3.345240</td>\n",
       "    </tr>\n",
       "    <tr>\n",
       "      <th>10</th>\n",
       "      <td>HG_score_1</td>\n",
       "      <td>3.033843</td>\n",
       "    </tr>\n",
       "    <tr>\n",
       "      <th>21</th>\n",
       "      <td>암의 개수</td>\n",
       "      <td>2.527402</td>\n",
       "    </tr>\n",
       "    <tr>\n",
       "      <th>2</th>\n",
       "      <td>DCIS_or_LCIS_여부</td>\n",
       "      <td>2.526846</td>\n",
       "    </tr>\n",
       "    <tr>\n",
       "      <th>17</th>\n",
       "      <td>T_category</td>\n",
       "      <td>2.524419</td>\n",
       "    </tr>\n",
       "    <tr>\n",
       "      <th>4</th>\n",
       "      <td>ER_Allred_score</td>\n",
       "      <td>2.505987</td>\n",
       "    </tr>\n",
       "    <tr>\n",
       "      <th>9</th>\n",
       "      <td>HG</td>\n",
       "      <td>2.435604</td>\n",
       "    </tr>\n",
       "    <tr>\n",
       "      <th>24</th>\n",
       "      <td>진단명</td>\n",
       "      <td>2.426452</td>\n",
       "    </tr>\n",
       "    <tr>\n",
       "      <th>6</th>\n",
       "      <td>HER2_IHC</td>\n",
       "      <td>2.121206</td>\n",
       "    </tr>\n",
       "    <tr>\n",
       "      <th>8</th>\n",
       "      <td>HER2_SISH_ratio</td>\n",
       "      <td>1.998072</td>\n",
       "    </tr>\n",
       "    <tr>\n",
       "      <th>12</th>\n",
       "      <td>HG_score_3</td>\n",
       "      <td>1.654787</td>\n",
       "    </tr>\n",
       "    <tr>\n",
       "      <th>15</th>\n",
       "      <td>PR</td>\n",
       "      <td>1.534636</td>\n",
       "    </tr>\n",
       "    <tr>\n",
       "      <th>7</th>\n",
       "      <td>HER2_SISH</td>\n",
       "      <td>1.209261</td>\n",
       "    </tr>\n",
       "    <tr>\n",
       "      <th>5</th>\n",
       "      <td>HER2</td>\n",
       "      <td>0.876101</td>\n",
       "    </tr>\n",
       "    <tr>\n",
       "      <th>3</th>\n",
       "      <td>ER</td>\n",
       "      <td>0.370943</td>\n",
       "    </tr>\n",
       "    <tr>\n",
       "      <th>0</th>\n",
       "      <td>BRCA_mutation</td>\n",
       "      <td>0.356079</td>\n",
       "    </tr>\n",
       "  </tbody>\n",
       "</table>\n",
       "</div>"
      ],
      "text/plain": [
       "              feature      value\n",
       "19           due_date  16.677493\n",
       "18          date_year  13.121424\n",
       "14                 NG  11.432816\n",
       "11         HG_score_2   6.966082\n",
       "13   KI-67_LI_percent   5.587786\n",
       "22              암의 위치   3.982920\n",
       "16    PR_Allred_score   3.761313\n",
       "23              암의 장경   3.517789\n",
       "1   DCIS_or_LCIS_type   3.505500\n",
       "20                 나이   3.345240\n",
       "10         HG_score_1   3.033843\n",
       "21              암의 개수   2.527402\n",
       "2     DCIS_or_LCIS_여부   2.526846\n",
       "17         T_category   2.524419\n",
       "4     ER_Allred_score   2.505987\n",
       "9                  HG   2.435604\n",
       "24                진단명   2.426452\n",
       "6            HER2_IHC   2.121206\n",
       "8     HER2_SISH_ratio   1.998072\n",
       "12         HG_score_3   1.654787\n",
       "15                 PR   1.534636\n",
       "7           HER2_SISH   1.209261\n",
       "5                HER2   0.876101\n",
       "3                  ER   0.370943\n",
       "0       BRCA_mutation   0.356079"
      ]
     },
     "execution_count": 414,
     "metadata": {},
     "output_type": "execute_result"
    }
   ],
   "source": [
    "fi_df.groupby('feature').mean().reset_index().sort_values('value', ascending=False)"
   ]
  },
  {
   "cell_type": "code",
   "execution_count": 428,
   "metadata": {},
   "outputs": [
    {
     "data": {
      "text/plain": [
       "0    0.533534\n",
       "1    0.466466\n",
       "dtype: float64"
      ]
     },
     "execution_count": 428,
     "metadata": {},
     "output_type": "execute_result"
    }
   ],
   "source": [
    "pd.Series(np.where(oof>0.55, 1, 0)).value_counts(True)"
   ]
  },
  {
   "cell_type": "code",
   "execution_count": 431,
   "metadata": {},
   "outputs": [
    {
     "data": {
      "text/plain": [
       "1    0.514515\n",
       "0    0.485485\n",
       "Name: N_category, dtype: float64"
      ]
     },
     "execution_count": 431,
     "metadata": {},
     "output_type": "execute_result"
    }
   ],
   "source": [
    "df_train['N_category'].value_counts(True)"
   ]
  },
  {
   "cell_type": "code",
   "execution_count": 433,
   "metadata": {},
   "outputs": [
    {
     "data": {
      "text/plain": [
       "1    0.512\n",
       "0    0.488\n",
       "dtype: float64"
      ]
     },
     "execution_count": 433,
     "metadata": {},
     "output_type": "execute_result"
    }
   ],
   "source": [
    "pd.Series(np.where(preds>0.4, 1, 0)).value_counts(True)"
   ]
  },
  {
   "cell_type": "code",
   "execution_count": 435,
   "metadata": {},
   "outputs": [
    {
     "data": {
      "text/plain": [
       "1    0.512\n",
       "0    0.488\n",
       "dtype: float64"
      ]
     },
     "execution_count": 435,
     "metadata": {},
     "output_type": "execute_result"
    }
   ],
   "source": [
    "pd.Series(np.where(preds>0.4, 1, 0)).value_counts(True)"
   ]
  },
  {
   "cell_type": "code",
   "execution_count": 436,
   "metadata": {},
   "outputs": [],
   "source": [
    "sub['N_category'] = np.where(preds>=0.4, 1, 0)"
   ]
  },
  {
   "cell_type": "code",
   "execution_count": 437,
   "metadata": {},
   "outputs": [],
   "source": [
    "sub.to_csv('../submit/catboost_data_cleaning_10folds__pp4.csv', index=False)"
   ]
  },
  {
   "cell_type": "code",
   "execution_count": 124,
   "metadata": {},
   "outputs": [],
   "source": [
    "np.save('../submit/cat_oof.npy', oof)"
   ]
  },
  {
   "cell_type": "code",
   "execution_count": 125,
   "metadata": {},
   "outputs": [],
   "source": [
    "np.save('../submit/cat_preds.npy', preds)"
   ]
  },
  {
   "cell_type": "code",
   "execution_count": null,
   "metadata": {},
   "outputs": [],
   "source": []
  },
  {
   "cell_type": "code",
   "execution_count": null,
   "metadata": {},
   "outputs": [],
   "source": []
  },
  {
   "cell_type": "code",
   "execution_count": null,
   "metadata": {},
   "outputs": [],
   "source": [
    "df_train['due_date'] = 2022 - pd.to_datetime(df_train['수술연월일']).dt.year"
   ]
  },
  {
   "cell_type": "code",
   "execution_count": null,
   "metadata": {},
   "outputs": [],
   "source": [
    "df_train.groupby('N_category')['암의 개수'].value_counts()"
   ]
  },
  {
   "cell_type": "code",
   "execution_count": 50,
   "metadata": {},
   "outputs": [
    {
     "data": {
      "text/html": [
       "<div>\n",
       "<style scoped>\n",
       "    .dataframe tbody tr th:only-of-type {\n",
       "        vertical-align: middle;\n",
       "    }\n",
       "\n",
       "    .dataframe tbody tr th {\n",
       "        vertical-align: top;\n",
       "    }\n",
       "\n",
       "    .dataframe thead th {\n",
       "        text-align: right;\n",
       "    }\n",
       "</style>\n",
       "<table border=\"1\" class=\"dataframe\">\n",
       "  <thead>\n",
       "    <tr style=\"text-align: right;\">\n",
       "      <th>KI-67_LI_percent</th>\n",
       "      <th>0.00</th>\n",
       "      <th>0.15</th>\n",
       "      <th>0.19</th>\n",
       "      <th>0.31</th>\n",
       "      <th>0.40</th>\n",
       "      <th>0.42</th>\n",
       "      <th>0.55</th>\n",
       "      <th>0.90</th>\n",
       "      <th>0.91</th>\n",
       "      <th>1.00</th>\n",
       "      <th>1.07</th>\n",
       "      <th>1.11</th>\n",
       "      <th>1.19</th>\n",
       "      <th>1.27</th>\n",
       "      <th>1.42</th>\n",
       "      <th>1.49</th>\n",
       "      <th>1.58</th>\n",
       "      <th>1.60</th>\n",
       "      <th>1.76</th>\n",
       "      <th>1.84</th>\n",
       "      <th>1.98</th>\n",
       "      <th>2.00</th>\n",
       "      <th>2.06</th>\n",
       "      <th>2.08</th>\n",
       "      <th>2.14</th>\n",
       "      <th>2.30</th>\n",
       "      <th>2.32</th>\n",
       "      <th>2.38</th>\n",
       "      <th>2.60</th>\n",
       "      <th>2.66</th>\n",
       "      <th>3.00</th>\n",
       "      <th>3.03</th>\n",
       "      <th>3.08</th>\n",
       "      <th>3.25</th>\n",
       "      <th>3.32</th>\n",
       "      <th>3.40</th>\n",
       "      <th>3.45</th>\n",
       "      <th>3.50</th>\n",
       "      <th>3.51</th>\n",
       "      <th>3.53</th>\n",
       "      <th>3.60</th>\n",
       "      <th>3.69</th>\n",
       "      <th>3.81</th>\n",
       "      <th>3.85</th>\n",
       "      <th>3.98</th>\n",
       "      <th>4.00</th>\n",
       "      <th>4.23</th>\n",
       "      <th>4.24</th>\n",
       "      <th>4.25</th>\n",
       "      <th>4.27</th>\n",
       "      <th>...</th>\n",
       "      <th>44.08</th>\n",
       "      <th>44.27</th>\n",
       "      <th>44.67</th>\n",
       "      <th>44.76</th>\n",
       "      <th>44.92</th>\n",
       "      <th>45.00</th>\n",
       "      <th>45.27</th>\n",
       "      <th>45.37</th>\n",
       "      <th>45.55</th>\n",
       "      <th>45.64</th>\n",
       "      <th>46.99</th>\n",
       "      <th>47.00</th>\n",
       "      <th>47.79</th>\n",
       "      <th>47.92</th>\n",
       "      <th>48.66</th>\n",
       "      <th>49.98</th>\n",
       "      <th>50.00</th>\n",
       "      <th>50.82</th>\n",
       "      <th>50.96</th>\n",
       "      <th>51.78</th>\n",
       "      <th>52.00</th>\n",
       "      <th>52.87</th>\n",
       "      <th>53.04</th>\n",
       "      <th>54.55</th>\n",
       "      <th>54.83</th>\n",
       "      <th>56.99</th>\n",
       "      <th>57.40</th>\n",
       "      <th>57.65</th>\n",
       "      <th>60.00</th>\n",
       "      <th>60.12</th>\n",
       "      <th>60.60</th>\n",
       "      <th>61.69</th>\n",
       "      <th>62.04</th>\n",
       "      <th>64.90</th>\n",
       "      <th>66.00</th>\n",
       "      <th>66.26</th>\n",
       "      <th>70.00</th>\n",
       "      <th>75.00</th>\n",
       "      <th>77.22</th>\n",
       "      <th>79.27</th>\n",
       "      <th>79.66</th>\n",
       "      <th>80.00</th>\n",
       "      <th>80.65</th>\n",
       "      <th>81.30</th>\n",
       "      <th>85.71</th>\n",
       "      <th>87.37</th>\n",
       "      <th>89.17</th>\n",
       "      <th>90.00</th>\n",
       "      <th>95.00</th>\n",
       "      <th>97.00</th>\n",
       "    </tr>\n",
       "    <tr>\n",
       "      <th>N_category</th>\n",
       "      <th></th>\n",
       "      <th></th>\n",
       "      <th></th>\n",
       "      <th></th>\n",
       "      <th></th>\n",
       "      <th></th>\n",
       "      <th></th>\n",
       "      <th></th>\n",
       "      <th></th>\n",
       "      <th></th>\n",
       "      <th></th>\n",
       "      <th></th>\n",
       "      <th></th>\n",
       "      <th></th>\n",
       "      <th></th>\n",
       "      <th></th>\n",
       "      <th></th>\n",
       "      <th></th>\n",
       "      <th></th>\n",
       "      <th></th>\n",
       "      <th></th>\n",
       "      <th></th>\n",
       "      <th></th>\n",
       "      <th></th>\n",
       "      <th></th>\n",
       "      <th></th>\n",
       "      <th></th>\n",
       "      <th></th>\n",
       "      <th></th>\n",
       "      <th></th>\n",
       "      <th></th>\n",
       "      <th></th>\n",
       "      <th></th>\n",
       "      <th></th>\n",
       "      <th></th>\n",
       "      <th></th>\n",
       "      <th></th>\n",
       "      <th></th>\n",
       "      <th></th>\n",
       "      <th></th>\n",
       "      <th></th>\n",
       "      <th></th>\n",
       "      <th></th>\n",
       "      <th></th>\n",
       "      <th></th>\n",
       "      <th></th>\n",
       "      <th></th>\n",
       "      <th></th>\n",
       "      <th></th>\n",
       "      <th></th>\n",
       "      <th></th>\n",
       "      <th></th>\n",
       "      <th></th>\n",
       "      <th></th>\n",
       "      <th></th>\n",
       "      <th></th>\n",
       "      <th></th>\n",
       "      <th></th>\n",
       "      <th></th>\n",
       "      <th></th>\n",
       "      <th></th>\n",
       "      <th></th>\n",
       "      <th></th>\n",
       "      <th></th>\n",
       "      <th></th>\n",
       "      <th></th>\n",
       "      <th></th>\n",
       "      <th></th>\n",
       "      <th></th>\n",
       "      <th></th>\n",
       "      <th></th>\n",
       "      <th></th>\n",
       "      <th></th>\n",
       "      <th></th>\n",
       "      <th></th>\n",
       "      <th></th>\n",
       "      <th></th>\n",
       "      <th></th>\n",
       "      <th></th>\n",
       "      <th></th>\n",
       "      <th></th>\n",
       "      <th></th>\n",
       "      <th></th>\n",
       "      <th></th>\n",
       "      <th></th>\n",
       "      <th></th>\n",
       "      <th></th>\n",
       "      <th></th>\n",
       "      <th></th>\n",
       "      <th></th>\n",
       "      <th></th>\n",
       "      <th></th>\n",
       "      <th></th>\n",
       "      <th></th>\n",
       "      <th></th>\n",
       "      <th></th>\n",
       "      <th></th>\n",
       "      <th></th>\n",
       "      <th></th>\n",
       "      <th></th>\n",
       "      <th></th>\n",
       "    </tr>\n",
       "  </thead>\n",
       "  <tbody>\n",
       "    <tr>\n",
       "      <th>0</th>\n",
       "      <td>1.0</td>\n",
       "      <td>1.0</td>\n",
       "      <td>1.0</td>\n",
       "      <td>NaN</td>\n",
       "      <td>1.0</td>\n",
       "      <td>1.0</td>\n",
       "      <td>1.0</td>\n",
       "      <td>1.0</td>\n",
       "      <td>NaN</td>\n",
       "      <td>34.0</td>\n",
       "      <td>1.0</td>\n",
       "      <td>1.0</td>\n",
       "      <td>1.0</td>\n",
       "      <td>NaN</td>\n",
       "      <td>1.0</td>\n",
       "      <td>1.0</td>\n",
       "      <td>NaN</td>\n",
       "      <td>1.0</td>\n",
       "      <td>NaN</td>\n",
       "      <td>1.0</td>\n",
       "      <td>1.0</td>\n",
       "      <td>14.0</td>\n",
       "      <td>NaN</td>\n",
       "      <td>1.0</td>\n",
       "      <td>NaN</td>\n",
       "      <td>NaN</td>\n",
       "      <td>1.0</td>\n",
       "      <td>1.0</td>\n",
       "      <td>NaN</td>\n",
       "      <td>NaN</td>\n",
       "      <td>20.0</td>\n",
       "      <td>1.0</td>\n",
       "      <td>NaN</td>\n",
       "      <td>1.0</td>\n",
       "      <td>1.0</td>\n",
       "      <td>1.0</td>\n",
       "      <td>NaN</td>\n",
       "      <td>1.0</td>\n",
       "      <td>NaN</td>\n",
       "      <td>1.0</td>\n",
       "      <td>NaN</td>\n",
       "      <td>NaN</td>\n",
       "      <td>NaN</td>\n",
       "      <td>NaN</td>\n",
       "      <td>NaN</td>\n",
       "      <td>NaN</td>\n",
       "      <td>1.0</td>\n",
       "      <td>NaN</td>\n",
       "      <td>1.0</td>\n",
       "      <td>1.0</td>\n",
       "      <td>...</td>\n",
       "      <td>NaN</td>\n",
       "      <td>NaN</td>\n",
       "      <td>NaN</td>\n",
       "      <td>NaN</td>\n",
       "      <td>NaN</td>\n",
       "      <td>NaN</td>\n",
       "      <td>1.0</td>\n",
       "      <td>NaN</td>\n",
       "      <td>NaN</td>\n",
       "      <td>NaN</td>\n",
       "      <td>NaN</td>\n",
       "      <td>NaN</td>\n",
       "      <td>NaN</td>\n",
       "      <td>NaN</td>\n",
       "      <td>NaN</td>\n",
       "      <td>1.0</td>\n",
       "      <td>6.0</td>\n",
       "      <td>NaN</td>\n",
       "      <td>1.0</td>\n",
       "      <td>NaN</td>\n",
       "      <td>NaN</td>\n",
       "      <td>NaN</td>\n",
       "      <td>NaN</td>\n",
       "      <td>NaN</td>\n",
       "      <td>NaN</td>\n",
       "      <td>NaN</td>\n",
       "      <td>1.0</td>\n",
       "      <td>NaN</td>\n",
       "      <td>4.0</td>\n",
       "      <td>NaN</td>\n",
       "      <td>NaN</td>\n",
       "      <td>NaN</td>\n",
       "      <td>1.0</td>\n",
       "      <td>NaN</td>\n",
       "      <td>NaN</td>\n",
       "      <td>NaN</td>\n",
       "      <td>2.0</td>\n",
       "      <td>1.0</td>\n",
       "      <td>NaN</td>\n",
       "      <td>NaN</td>\n",
       "      <td>1.0</td>\n",
       "      <td>2.0</td>\n",
       "      <td>NaN</td>\n",
       "      <td>NaN</td>\n",
       "      <td>NaN</td>\n",
       "      <td>NaN</td>\n",
       "      <td>1.0</td>\n",
       "      <td>2.0</td>\n",
       "      <td>NaN</td>\n",
       "      <td>NaN</td>\n",
       "    </tr>\n",
       "    <tr>\n",
       "      <th>1</th>\n",
       "      <td>NaN</td>\n",
       "      <td>NaN</td>\n",
       "      <td>NaN</td>\n",
       "      <td>1.0</td>\n",
       "      <td>NaN</td>\n",
       "      <td>NaN</td>\n",
       "      <td>NaN</td>\n",
       "      <td>NaN</td>\n",
       "      <td>1.0</td>\n",
       "      <td>22.0</td>\n",
       "      <td>NaN</td>\n",
       "      <td>NaN</td>\n",
       "      <td>NaN</td>\n",
       "      <td>1.0</td>\n",
       "      <td>NaN</td>\n",
       "      <td>NaN</td>\n",
       "      <td>1.0</td>\n",
       "      <td>NaN</td>\n",
       "      <td>1.0</td>\n",
       "      <td>NaN</td>\n",
       "      <td>NaN</td>\n",
       "      <td>11.0</td>\n",
       "      <td>1.0</td>\n",
       "      <td>NaN</td>\n",
       "      <td>1.0</td>\n",
       "      <td>1.0</td>\n",
       "      <td>NaN</td>\n",
       "      <td>NaN</td>\n",
       "      <td>2.0</td>\n",
       "      <td>1.0</td>\n",
       "      <td>7.0</td>\n",
       "      <td>NaN</td>\n",
       "      <td>1.0</td>\n",
       "      <td>NaN</td>\n",
       "      <td>NaN</td>\n",
       "      <td>NaN</td>\n",
       "      <td>2.0</td>\n",
       "      <td>NaN</td>\n",
       "      <td>1.0</td>\n",
       "      <td>NaN</td>\n",
       "      <td>1.0</td>\n",
       "      <td>1.0</td>\n",
       "      <td>1.0</td>\n",
       "      <td>1.0</td>\n",
       "      <td>1.0</td>\n",
       "      <td>2.0</td>\n",
       "      <td>NaN</td>\n",
       "      <td>1.0</td>\n",
       "      <td>NaN</td>\n",
       "      <td>NaN</td>\n",
       "      <td>...</td>\n",
       "      <td>1.0</td>\n",
       "      <td>1.0</td>\n",
       "      <td>1.0</td>\n",
       "      <td>1.0</td>\n",
       "      <td>1.0</td>\n",
       "      <td>1.0</td>\n",
       "      <td>NaN</td>\n",
       "      <td>1.0</td>\n",
       "      <td>1.0</td>\n",
       "      <td>1.0</td>\n",
       "      <td>1.0</td>\n",
       "      <td>1.0</td>\n",
       "      <td>1.0</td>\n",
       "      <td>1.0</td>\n",
       "      <td>1.0</td>\n",
       "      <td>NaN</td>\n",
       "      <td>3.0</td>\n",
       "      <td>1.0</td>\n",
       "      <td>NaN</td>\n",
       "      <td>1.0</td>\n",
       "      <td>1.0</td>\n",
       "      <td>1.0</td>\n",
       "      <td>1.0</td>\n",
       "      <td>1.0</td>\n",
       "      <td>1.0</td>\n",
       "      <td>1.0</td>\n",
       "      <td>NaN</td>\n",
       "      <td>1.0</td>\n",
       "      <td>4.0</td>\n",
       "      <td>1.0</td>\n",
       "      <td>1.0</td>\n",
       "      <td>1.0</td>\n",
       "      <td>NaN</td>\n",
       "      <td>1.0</td>\n",
       "      <td>1.0</td>\n",
       "      <td>1.0</td>\n",
       "      <td>6.0</td>\n",
       "      <td>1.0</td>\n",
       "      <td>1.0</td>\n",
       "      <td>1.0</td>\n",
       "      <td>NaN</td>\n",
       "      <td>3.0</td>\n",
       "      <td>1.0</td>\n",
       "      <td>1.0</td>\n",
       "      <td>1.0</td>\n",
       "      <td>1.0</td>\n",
       "      <td>NaN</td>\n",
       "      <td>NaN</td>\n",
       "      <td>1.0</td>\n",
       "      <td>1.0</td>\n",
       "    </tr>\n",
       "  </tbody>\n",
       "</table>\n",
       "<p>2 rows × 358 columns</p>\n",
       "</div>"
      ],
      "text/plain": [
       "KI-67_LI_percent  0.00   0.15   0.19   0.31   0.40   0.42   0.55   0.90   \\\n",
       "N_category                                                                 \n",
       "0                   1.0    1.0    1.0    NaN    1.0    1.0    1.0    1.0   \n",
       "1                   NaN    NaN    NaN    1.0    NaN    NaN    NaN    NaN   \n",
       "\n",
       "KI-67_LI_percent  0.91   1.00   1.07   1.11   1.19   1.27   1.42   1.49   \\\n",
       "N_category                                                                 \n",
       "0                   NaN   34.0    1.0    1.0    1.0    NaN    1.0    1.0   \n",
       "1                   1.0   22.0    NaN    NaN    NaN    1.0    NaN    NaN   \n",
       "\n",
       "KI-67_LI_percent  1.58   1.60   1.76   1.84   1.98   2.00   2.06   2.08   \\\n",
       "N_category                                                                 \n",
       "0                   NaN    1.0    NaN    1.0    1.0   14.0    NaN    1.0   \n",
       "1                   1.0    NaN    1.0    NaN    NaN   11.0    1.0    NaN   \n",
       "\n",
       "KI-67_LI_percent  2.14   2.30   2.32   2.38   2.60   2.66   3.00   3.03   \\\n",
       "N_category                                                                 \n",
       "0                   NaN    NaN    1.0    1.0    NaN    NaN   20.0    1.0   \n",
       "1                   1.0    1.0    NaN    NaN    2.0    1.0    7.0    NaN   \n",
       "\n",
       "KI-67_LI_percent  3.08   3.25   3.32   3.40   3.45   3.50   3.51   3.53   \\\n",
       "N_category                                                                 \n",
       "0                   NaN    1.0    1.0    1.0    NaN    1.0    NaN    1.0   \n",
       "1                   1.0    NaN    NaN    NaN    2.0    NaN    1.0    NaN   \n",
       "\n",
       "KI-67_LI_percent  3.60   3.69   3.81   3.85   3.98   4.00   4.23   4.24   \\\n",
       "N_category                                                                 \n",
       "0                   NaN    NaN    NaN    NaN    NaN    NaN    1.0    NaN   \n",
       "1                   1.0    1.0    1.0    1.0    1.0    2.0    NaN    1.0   \n",
       "\n",
       "KI-67_LI_percent  4.25   4.27   ...  44.08  44.27  44.67  44.76  44.92  45.00  \\\n",
       "N_category                      ...                                             \n",
       "0                   1.0    1.0  ...    NaN    NaN    NaN    NaN    NaN    NaN   \n",
       "1                   NaN    NaN  ...    1.0    1.0    1.0    1.0    1.0    1.0   \n",
       "\n",
       "KI-67_LI_percent  45.27  45.37  45.55  45.64  46.99  47.00  47.79  47.92  \\\n",
       "N_category                                                                 \n",
       "0                   1.0    NaN    NaN    NaN    NaN    NaN    NaN    NaN   \n",
       "1                   NaN    1.0    1.0    1.0    1.0    1.0    1.0    1.0   \n",
       "\n",
       "KI-67_LI_percent  48.66  49.98  50.00  50.82  50.96  51.78  52.00  52.87  \\\n",
       "N_category                                                                 \n",
       "0                   NaN    1.0    6.0    NaN    1.0    NaN    NaN    NaN   \n",
       "1                   1.0    NaN    3.0    1.0    NaN    1.0    1.0    1.0   \n",
       "\n",
       "KI-67_LI_percent  53.04  54.55  54.83  56.99  57.40  57.65  60.00  60.12  \\\n",
       "N_category                                                                 \n",
       "0                   NaN    NaN    NaN    NaN    1.0    NaN    4.0    NaN   \n",
       "1                   1.0    1.0    1.0    1.0    NaN    1.0    4.0    1.0   \n",
       "\n",
       "KI-67_LI_percent  60.60  61.69  62.04  64.90  66.00  66.26  70.00  75.00  \\\n",
       "N_category                                                                 \n",
       "0                   NaN    NaN    1.0    NaN    NaN    NaN    2.0    1.0   \n",
       "1                   1.0    1.0    NaN    1.0    1.0    1.0    6.0    1.0   \n",
       "\n",
       "KI-67_LI_percent  77.22  79.27  79.66  80.00  80.65  81.30  85.71  87.37  \\\n",
       "N_category                                                                 \n",
       "0                   NaN    NaN    1.0    2.0    NaN    NaN    NaN    NaN   \n",
       "1                   1.0    1.0    NaN    3.0    1.0    1.0    1.0    1.0   \n",
       "\n",
       "KI-67_LI_percent  89.17  90.00  95.00  97.00  \n",
       "N_category                                    \n",
       "0                   1.0    2.0    NaN    NaN  \n",
       "1                   NaN    NaN    1.0    1.0  \n",
       "\n",
       "[2 rows x 358 columns]"
      ]
     },
     "execution_count": 50,
     "metadata": {},
     "output_type": "execute_result"
    }
   ],
   "source": [
    "df_train.groupby('N_category')['KI-67_LI_percent'].value_counts().unstack()"
   ]
  },
  {
   "cell_type": "code",
   "execution_count": null,
   "metadata": {},
   "outputs": [],
   "source": [
    "df_train.groupby('N_category')['DCIS_or_LCIS_여부'].value_counts()"
   ]
  },
  {
   "cell_type": "code",
   "execution_count": null,
   "metadata": {},
   "outputs": [],
   "source": [
    "df_train.groupby('N_category')['due_date'].value_counts()"
   ]
  },
  {
   "cell_type": "code",
   "execution_count": null,
   "metadata": {},
   "outputs": [],
   "source": []
  },
  {
   "cell_type": "code",
   "execution_count": null,
   "metadata": {},
   "outputs": [],
   "source": [
    "img = cv2.imread('../open/train_imgs/BC_01_0015.png')\n",
    "mask = cv2.imread('../open/train_masks/BC_01_0015.png')\n",
    "plt.subplots(2,1)\n",
    "plt.subplot(2,1,1)\n",
    "plt.imshow(img)\n",
    "plt.subplot(2,1,2)\n",
    "plt.imshow(mask)\n",
    "plt.show()"
   ]
  },
  {
   "cell_type": "code",
   "execution_count": null,
   "metadata": {},
   "outputs": [],
   "source": [
    "import albumentations as A"
   ]
  },
  {
   "cell_type": "code",
   "execution_count": null,
   "metadata": {},
   "outputs": [],
   "source": []
  },
  {
   "cell_type": "code",
   "execution_count": null,
   "metadata": {},
   "outputs": [],
   "source": [
    "trans = A.VerticalFlip(p=1.0)\n",
    "\n",
    "trans = A.transforms.Normalize(mean=(0.485, 0.456, 0.406), std=(0.229, 0.224, 0.225), max_pixel_value=255.0, p=1.0)"
   ]
  },
  {
   "cell_type": "code",
   "execution_count": null,
   "metadata": {},
   "outputs": [],
   "source": [
    "trans_img = trans(image=img)['image']"
   ]
  },
  {
   "cell_type": "code",
   "execution_count": null,
   "metadata": {},
   "outputs": [],
   "source": [
    "plt.imshow(trans_img)"
   ]
  },
  {
   "cell_type": "code",
   "execution_count": null,
   "metadata": {},
   "outputs": [],
   "source": [
    "plt.imshow(trans_img)"
   ]
  },
  {
   "cell_type": "code",
   "execution_count": null,
   "metadata": {},
   "outputs": [],
   "source": [
    "df_train[lambda x: x['mask_path']!='-'].head()"
   ]
  },
  {
   "cell_type": "code",
   "execution_count": null,
   "metadata": {},
   "outputs": [],
   "source": [
    "img = cv2.imread('../open/test_imgs/BC_01_0011.png')\n",
    "plt.imshow(img)\n",
    "plt.show()"
   ]
  },
  {
   "cell_type": "code",
   "execution_count": null,
   "metadata": {},
   "outputs": [],
   "source": [
    "df_test"
   ]
  },
  {
   "cell_type": "code",
   "execution_count": null,
   "metadata": {},
   "outputs": [],
   "source": []
  },
  {
   "cell_type": "code",
   "execution_count": null,
   "metadata": {},
   "outputs": [],
   "source": []
  },
  {
   "cell_type": "code",
   "execution_count": null,
   "metadata": {},
   "outputs": [],
   "source": []
  },
  {
   "cell_type": "code",
   "execution_count": null,
   "metadata": {},
   "outputs": [],
   "source": []
  },
  {
   "cell_type": "code",
   "execution_count": null,
   "metadata": {},
   "outputs": [],
   "source": []
  },
  {
   "cell_type": "code",
   "execution_count": 100,
   "metadata": {},
   "outputs": [],
   "source": [
    "import pandas as pd\n",
    "import numpy as np\n",
    "\n",
    "import torch\n",
    "import torch.nn as nn"
   ]
  },
  {
   "cell_type": "code",
   "execution_count": 103,
   "metadata": {},
   "outputs": [
    {
     "data": {
      "text/plain": [
       "array([[1, 2],\n",
       "       [3, 4]])"
      ]
     },
     "execution_count": 103,
     "metadata": {},
     "output_type": "execute_result"
    }
   ],
   "source": [
    "a = np.random.rand(2, 2)\n",
    "a = np.array([[1,2],[3,4]])\n",
    "a"
   ]
  },
  {
   "cell_type": "code",
   "execution_count": 94,
   "metadata": {},
   "outputs": [
    {
     "data": {
      "text/plain": [
       "Parameter containing:\n",
       "tensor([[0.6711],\n",
       "        [0.1316]], requires_grad=True)"
      ]
     },
     "execution_count": 94,
     "metadata": {},
     "output_type": "execute_result"
    }
   ],
   "source": [
    "param1 = nn.Parameter(torch.rand(2, 1))\n",
    "param2 = nn.Parameter(torch.rand(2, 1))\n",
    "param1"
   ]
  },
  {
   "cell_type": "code",
   "execution_count": 48,
   "metadata": {},
   "outputs": [],
   "source": [
    "b = torch.tensor(a)[:,:,None] * param1\n",
    "b = b + param2"
   ]
  },
  {
   "cell_type": "code",
   "execution_count": 104,
   "metadata": {},
   "outputs": [
    {
     "data": {
      "text/plain": [
       "tensor([[[1],\n",
       "         [2]],\n",
       "\n",
       "        [[3],\n",
       "         [4]]])"
      ]
     },
     "execution_count": 104,
     "metadata": {},
     "output_type": "execute_result"
    }
   ],
   "source": [
    "torch.tensor(a)[:,:,None]"
   ]
  },
  {
   "cell_type": "code",
   "execution_count": 108,
   "metadata": {},
   "outputs": [],
   "source": [
    "d = torch.tensor(a)[:,:,None] * param1"
   ]
  },
  {
   "cell_type": "code",
   "execution_count": 106,
   "metadata": {},
   "outputs": [
    {
     "data": {
      "text/plain": [
       "Parameter containing:\n",
       "tensor([[0.2899],\n",
       "        [0.3521]], requires_grad=True)"
      ]
     },
     "execution_count": 106,
     "metadata": {},
     "output_type": "execute_result"
    }
   ],
   "source": [
    "param2"
   ]
  },
  {
   "cell_type": "code",
   "execution_count": 107,
   "metadata": {},
   "outputs": [
    {
     "data": {
      "text/plain": [
       "tensor([[[0.9610],\n",
       "         [0.6153]],\n",
       "\n",
       "        [[2.3032],\n",
       "         [0.8785]]], grad_fn=<AddBackward0>)"
      ]
     },
     "execution_count": 107,
     "metadata": {},
     "output_type": "execute_result"
    }
   ],
   "source": [
    "torch.tensor(a)[:,:,None] * param1 + param2"
   ]
  },
  {
   "cell_type": "code",
   "execution_count": 44,
   "metadata": {},
   "outputs": [
    {
     "data": {
      "text/plain": [
       "torch.Size([10, 5, 32])"
      ]
     },
     "execution_count": 44,
     "metadata": {},
     "output_type": "execute_result"
    }
   ],
   "source": [
    "b.shape"
   ]
  },
  {
   "cell_type": "code",
   "execution_count": 37,
   "metadata": {},
   "outputs": [
    {
     "data": {
      "text/plain": [
       "torch.Size([10, 5, 32])"
      ]
     },
     "execution_count": 37,
     "metadata": {},
     "output_type": "execute_result"
    }
   ],
   "source": [
    "b.shape"
   ]
  },
  {
   "cell_type": "code",
   "execution_count": 35,
   "metadata": {},
   "outputs": [
    {
     "data": {
      "text/plain": [
       "(10, 5)"
      ]
     },
     "execution_count": 35,
     "metadata": {},
     "output_type": "execute_result"
    }
   ],
   "source": [
    "a.shape"
   ]
  }
 ],
 "metadata": {
  "kernelspec": {
   "display_name": "Python 3.8.13 ('traffic')",
   "language": "python",
   "name": "python3"
  },
  "language_info": {
   "codemirror_mode": {
    "name": "ipython",
    "version": 3
   },
   "file_extension": ".py",
   "mimetype": "text/x-python",
   "name": "python",
   "nbconvert_exporter": "python",
   "pygments_lexer": "ipython3",
   "version": "3.8.13"
  },
  "orig_nbformat": 4,
  "vscode": {
   "interpreter": {
    "hash": "c3bc5f8aa180f79dc6fbda56bff4e8caaf8fdea0abd59a345cd056711b43be22"
   }
  }
 },
 "nbformat": 4,
 "nbformat_minor": 2
}
