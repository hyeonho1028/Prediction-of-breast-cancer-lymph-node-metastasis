{
 "cells": [
  {
   "cell_type": "code",
   "execution_count": 1,
   "metadata": {},
   "outputs": [],
   "source": [
    "import yaml\n",
    "import numpy as np\n",
    "import pandas as pd\n",
    "\n",
    "import cv2\n",
    "import albumentations as A\n",
    "\n",
    "import matplotlib.pyplot as plt\n",
    "import seaborn as sns\n",
    "\n",
    "from sklearn.model_selection import StratifiedKFold\n",
    "\n",
    "from utils import obj\n",
    "\n",
    "from lightgbm import LGBMClassifier\n",
    "from catboost import CatBoostClassifier\n",
    "\n",
    "pd.options.display.max_columns=100"
   ]
  },
  {
   "cell_type": "code",
   "execution_count": 2,
   "metadata": {},
   "outputs": [],
   "source": [
    "data_path = '../open/'\n",
    "info = pd.read_excel(data_path+'clinical_info.xlsx')\n",
    "\n",
    "df_train = pd.read_csv(data_path+'train.csv')\n",
    "df_test = pd.read_csv(data_path+'test.csv')\n",
    "sub = pd.read_csv(data_path+'sample_submission.csv')\n",
    "\n",
    "df_train['img_path'] = df_train['img_path'].apply(lambda x: x.replace('./', '../open/'))\n",
    "df_test['img_path'] = df_test['img_path'].apply(lambda x: x.replace('./', '../open/'))"
   ]
  },
  {
   "cell_type": "code",
   "execution_count": null,
   "metadata": {},
   "outputs": [],
   "source": [
    "size_ls = []\n",
    "\n",
    "for i in df_train['img_path']:\n",
    "    img = cv2.imread(i)\n",
    "    size_ls += [img.shape]"
   ]
  },
  {
   "cell_type": "code",
   "execution_count": null,
   "metadata": {},
   "outputs": [],
   "source": [
    "df_train['img_height'] = [h[0] for h in size_ls]\n",
    "df_train['img_width'] = [h[1] for h in size_ls]"
   ]
  },
  {
   "cell_type": "code",
   "execution_count": null,
   "metadata": {},
   "outputs": [],
   "source": [
    "size_ls = []\n",
    "\n",
    "for i in df_test['img_path']:\n",
    "    img = cv2.imread(i)\n",
    "    size_ls += [img.shape]"
   ]
  },
  {
   "cell_type": "code",
   "execution_count": null,
   "metadata": {},
   "outputs": [],
   "source": [
    "df_test['img_height'] = [h[0] for h in size_ls]\n",
    "df_test['img_width'] = [h[1] for h in size_ls]"
   ]
  }
 ],
 "metadata": {
  "kernelspec": {
   "display_name": "Python 3.9.7 ('ray_pl')",
   "language": "python",
   "name": "python3"
  },
  "language_info": {
   "codemirror_mode": {
    "name": "ipython",
    "version": 3
   },
   "file_extension": ".py",
   "mimetype": "text/x-python",
   "name": "python",
   "nbconvert_exporter": "python",
   "pygments_lexer": "ipython3",
   "version": "3.9.7"
  },
  "orig_nbformat": 4,
  "vscode": {
   "interpreter": {
    "hash": "65e69a851bb5a179bf7435f637a9dd3f2d67ff7b0f73f2181633d998f9e977c5"
   }
  }
 },
 "nbformat": 4,
 "nbformat_minor": 2
}
