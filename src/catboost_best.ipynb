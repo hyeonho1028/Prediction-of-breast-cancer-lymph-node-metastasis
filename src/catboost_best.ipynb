{
 "cells": [
  {
   "cell_type": "code",
   "execution_count": 12,
   "metadata": {},
   "outputs": [],
   "source": [
    "import os\n",
    "import yaml\n",
    "import numpy as np\n",
    "import pandas as pd\n",
    "\n",
    "import cv2\n",
    "import torch\n",
    "import albumentations as A\n",
    "\n",
    "import matplotlib.pyplot as plt\n",
    "import seaborn as sns\n",
    "\n",
    "from sklearn.model_selection import StratifiedKFold\n",
    "\n",
    "from utils import obj\n",
    "from sdv.tabular.ctgan import CTGAN\n",
    "\n",
    "from lightgbm import LGBMClassifier\n",
    "from catboost import CatBoostClassifier\n",
    "from sklearn.metrics import f1_score\n",
    "\n",
    "pd.options.display.max_columns=100"
   ]
  },
  {
   "cell_type": "code",
   "execution_count": 2,
   "metadata": {},
   "outputs": [],
   "source": [
    "data_path = '../open/'\n",
    "info = pd.read_excel(data_path+'clinical_info.xlsx')\n",
    "\n",
    "df_train = pd.read_csv(data_path+'train.csv')\n",
    "df_test = pd.read_csv(data_path+'test.csv')\n",
    "sub = pd.read_csv(data_path+'sample_submission.csv')\n",
    "\n",
    "df_train['img_path'] = df_train['img_path'].apply(lambda x: x.replace('./', '../open/'))\n",
    "df_test['img_path'] = df_test['img_path'].apply(lambda x: x.replace('./', '../open/'))"
   ]
  },
  {
   "cell_type": "code",
   "execution_count": 9,
   "metadata": {},
   "outputs": [
    {
     "name": "stdout",
     "output_type": "stream",
     "text": [
      "start fold : 0\n",
      "start fold : 1\n",
      "start fold : 2\n",
      "start fold : 3\n",
      "start fold : 4\n"
     ]
    }
   ],
   "source": [
    "df_train = pd.read_csv(data_path+'train.csv')\n",
    "df_test = pd.read_csv(data_path+'test.csv')\n",
    "\n",
    "FOLDS = 5\n",
    "\n",
    "def basic_set():\n",
    "    use_features = [\n",
    "                    '나이', \n",
    "                    '진단명', '암의 위치', '암의 개수', '암의 장경', 'NG', 'HG', 'HG_score_1', 'HG_score_2', 'HG_score_3',\n",
    "                    'DCIS_or_LCIS_여부', 'DCIS_or_LCIS_type', 'T_category', \n",
    "                    'ER', 'ER_Allred_score', 'PR', 'PR_Allred_score', \n",
    "                    'KI-67_LI_percent', \n",
    "                    'HER2', 'HER2_IHC', 'HER2_SISH', 'HER2_SISH_ratio', 'BRCA_mutation', \n",
    "                    # 'img_height', 'img_width',\n",
    "                    # 'BRCA_mutation2',\n",
    "                    ]\n",
    "\n",
    "    cat_features = ['나이', '진단명', '암의 위치', '암의 개수', '암의 장경', 'NG', 'HG', 'HG_score_1',\n",
    "                            'HG_score_2', 'HG_score_3', 'DCIS_or_LCIS_여부', 'DCIS_or_LCIS_type',\n",
    "                            'T_category', 'ER', 'ER_Allred_score', 'PR', 'PR_Allred_score',\n",
    "                            'HER2', 'HER2_IHC', 'HER2_SISH','BRCA_mutation']\n",
    "    cat_features = ['진단명']\n",
    "    return use_features, cat_features\n",
    "\n",
    "df_train['due_date'] = 2022 - pd.to_datetime(df_train['수술연월일']).dt.year\n",
    "df_test['due_date'] = 2022 - pd.to_datetime(df_test['수술연월일']).dt.year\n",
    "# df_train['due_date2'] = (2022-pd.to_datetime(df_train['수술연월일']).dt.year)*12 + pd.to_datetime(df_train['수술연월일']).dt.month\n",
    "# df_test['due_date2'] = (2022-pd.to_datetime(df_test['수술연월일']).dt.year)*12 + pd.to_datetime(df_test['수술연월일']).dt.month\n",
    "\n",
    "df_train['date_year'] = pd.to_datetime(df_train['수술연월일']).dt.year\n",
    "df_test['date_year'] = pd.to_datetime(df_test['수술연월일']).dt.year\n",
    "\n",
    "# df_train['수술당시나이'] = df_train['나이'] - df_train['due_date']\n",
    "# df_test['수술당시나이'] = df_test['나이'] - df_test['due_date']\n",
    "\n",
    "# df_train['암의 장경/개수'] = df_train['암의 장경'] / df_train['암의 개수']\n",
    "# df_test['암의 장경/개수'] = df_test['암의 장경'] / df_test['암의 개수']\n",
    "\n",
    "for col in [\n",
    "                    '나이', '진단명', '암의 위치', '암의 개수', 'NG', 'HG', 'HG_score_1', 'HG_score_2', 'HG_score_3',\n",
    "                    'DCIS_or_LCIS_여부', 'DCIS_or_LCIS_type', 'T_category', \n",
    "                    'ER', 'ER_Allred_score', 'PR', 'PR_Allred_score', \n",
    "                    'HER2', 'HER2_IHC', 'HER2_SISH', 'HER2_SISH_ratio', 'BRCA_mutation', 'due_date', 'date_year']:\n",
    "    df_test[col] = df_test[col].map(df_train[col].value_counts(True))\n",
    "    df_train[col] = df_train[col].map(df_train[col].value_counts(True))\n",
    "\n",
    "skf = StratifiedKFold(n_splits=FOLDS, random_state=42, shuffle=True)\n",
    "splits = list(skf.split(df_train, df_train['N_category']))\n",
    "# labels = df_train['N_category'].astype(str) + '_' + df_train['due_date'].astype(str)\n",
    "# splits = list(skf.split(df_train, labels))\n",
    "\n",
    "\n",
    "fi_df = pd.DataFrame()\n",
    "oof = np.zeros(len(df_train))\n",
    "preds = np.zeros(len(df_test))\n",
    "\n",
    "for fold in range(FOLDS):\n",
    "    print('start fold :', fold)\n",
    "    test = df_test.copy()\n",
    "    \n",
    "    use_features, cat_features = basic_set()\n",
    "    use_features += ['due_date', 'date_year']\n",
    "    # use_features += ['due_date', 'date_year', '암의 장경/개수']\n",
    "\n",
    "    tt = df_train.loc[splits[fold][0], use_features].reset_index(drop=True)\n",
    "    tt_target = df_train.loc[splits[fold][0], 'N_category'].values\n",
    "    vv = df_train.loc[splits[fold][1], use_features].reset_index(drop=True)\n",
    "    vv_target = df_train.loc[splits[fold][1], 'N_category'].values\n",
    "\n",
    "    for df in [tt, vv, test]:\n",
    "        # df['나이'] = pd.cut(df['나이'], [20, 30, 40, 50, 60, 70, 80, 100])\n",
    "        df['암의 장경'] = pd.cut(df['암의 장경'], [0, 10, 20, 30, 40, 50, 60, 70, 80, 90, 100, 200])\n",
    "        # df['암의 장경'] = pd.cut(df['암의 장경'], [0, 20, 40, 60, 80, 100, 200])\n",
    "\n",
    "        # df['due_date'] = pd.cut(df['due_date'], [0, 5, 10, 15])\n",
    "        # df['date_year'] = pd.cut(df['date_year'], [0, 2005, 2010, 2015, 2020, 2030])\n",
    "        \n",
    "        # df['암의 장경/개수'] = pd.cut(df['암의 장경/개수'], [0, 10, 20, 30, 40, 50, 60, 70, 80, 90, 100, 200])\n",
    "        # df['KI-67_LI_percent'] = pd.cut(df['KI-67_LI_percent'], [0, 20, 40, 60, 80, 100])\n",
    "        \n",
    "    # for col in ['나이', '암의 장경', '암의 장경/개수']:\n",
    "    # for col in ['나이', '암의 장경', 'KI-67_LI_percent']:\n",
    "    # for col in ['나이', '암의 장경']:\n",
    "    for col in ['암의 장경']:\n",
    "        tmp_dict = {j:i for i,j in enumerate(np.unique(tt[col].astype(str)))}\n",
    "        tt[col] = tt[col].astype(str).map(tmp_dict)\n",
    "        vv[col] = vv[col].astype(str).map(tmp_dict)\n",
    "        test[col] = test[col].astype(str).map(tmp_dict)\n",
    "\n",
    "    # generate dataset\n",
    "    # tt = tt.fillna(0)\n",
    "    # vv = vv.fillna(0)\n",
    "    # test = test.fillna(0)\n",
    "\n",
    "    # df = pd.concat([tt, pd.DataFrame(tt_target, columns=['target'])], axis=1)\n",
    "    # discrete_columns = ['암의 장경', 'target']\n",
    "\n",
    "    # ctgan = CTGAN(epochs=40)\n",
    "    # ctgan.fit(df, discrete_columns)\n",
    "    # # Create synthetic data\n",
    "    # synthetic_data = ctgan.sample(200)\n",
    "    # df = pd.concat([df, synthetic_data], ignore_index=True)\n",
    "    # tt_target = df['target'].values\n",
    "    # tt = df.drop(columns='target')\n",
    "    \n",
    "    test = test[use_features].reset_index(drop=True)\n",
    "\n",
    "    # lgb = LGBMClassifier(\n",
    "    #                     n_estimators=5000,\n",
    "    #                     learning_rate=0.03,\n",
    "    #                     max_depth=-1,\n",
    "    #                     num_leaves=64,\n",
    "    #                     )\n",
    "\n",
    "    # lgb.fit(tt, tt_target, eval_set=[(tt, tt_target), (vv, vv_target)], verbose=1000, early_stopping_rounds=100)\n",
    "    # oof[splits[fold][1]] += lgb.predict_proba(vv)[:, 1]\n",
    "    # preds += lgb.predict_proba(test)[:, 1] / 5\n",
    "    # fi_df = pd.concat([fi_df, pd.DataFrame(zip(use_features, lgb.feature_importances_), columns=['feature', 'value'])])\n",
    "    # tt[cat_features] = tt[cat_features].fillna(-99).astype(int)\n",
    "    # vv[cat_features] = vv[cat_features].fillna(-99).astype(int)\n",
    "    cat = CatBoostClassifier(\n",
    "                            n_estimators=5000,\n",
    "                            learning_rate=0.03,\n",
    "                            # objective='logloss',\n",
    "                            # eval_metric='F1',\n",
    "                            # reg_lambda=0.01,\n",
    "                            # random_seed=1028,\n",
    "                            allow_writing_files=False,\n",
    "                            logging_level='Silent',\n",
    "                            )\n",
    "    cat.fit(tt, tt_target, eval_set=[(tt, tt_target), (vv, vv_target)], verbose=1000, early_stopping_rounds=500,\n",
    "            # cat_features=cat_features\n",
    "            )\n",
    "    # cat.fit(tt[lambda x: x['due_date']<14], tt_target[tt['due_date']<14], eval_set=[(tt, tt_target), (vv, vv_target)], verbose=1000, early_stopping_rounds=500,\n",
    "    #         # cat_features=cat_features\n",
    "    #         )\n",
    "\n",
    "            \n",
    "    oof[splits[fold][1]] += cat.predict_proba(vv)[:, 1]\n",
    "    preds += cat.predict_proba(test)[:, 1] / FOLDS\n",
    "    fi_df = pd.concat([fi_df, pd.DataFrame(zip(use_features, cat.feature_importances_), columns=['feature', 'value'])])"
   ]
  },
  {
   "cell_type": "code",
   "execution_count": 11,
   "metadata": {},
   "outputs": [
    {
     "data": {
      "text/plain": [
       "0.8429985869872828"
      ]
     },
     "execution_count": 11,
     "metadata": {},
     "output_type": "execute_result"
    }
   ],
   "source": [
    "# 0.8409985689871209 -> standard\n",
    "# 0.8439943837978167 -> generate\n",
    "\n",
    "f1_score(df_train['N_category'],\n",
    "        np.where(oof>0.5, 1, 0),\n",
    "        average='macro'\n",
    "        )"
   ]
  },
  {
   "cell_type": "code",
   "execution_count": null,
   "metadata": {},
   "outputs": [],
   "source": [
    "from utils import seed_everything\n",
    "seed_everything(42)"
   ]
  },
  {
   "cell_type": "code",
   "execution_count": 14,
   "metadata": {},
   "outputs": [
    {
     "name": "stdout",
     "output_type": "stream",
     "text": [
      "start fold : 0\n",
      "start fold : 1\n",
      "start fold : 2\n",
      "start fold : 3\n",
      "start fold : 4\n",
      "10 50 0.8359940957874483\n",
      "start fold : 0\n",
      "start fold : 1\n",
      "start fold : 2\n",
      "start fold : 3\n",
      "start fold : 4\n",
      "10 100 0.8409998409998409\n",
      "start fold : 0\n",
      "start fold : 1\n",
      "start fold : 2\n",
      "start fold : 3\n",
      "start fold : 4\n",
      "10 200 0.8429923066230246\n",
      "start fold : 0\n",
      "start fold : 1\n",
      "start fold : 2\n",
      "start fold : 3\n",
      "start fold : 4\n",
      "10 300 0.841999367997472\n",
      "start fold : 0\n"
     ]
    },
    {
     "ename": "KeyboardInterrupt",
     "evalue": "",
     "output_type": "error",
     "traceback": [
      "\u001b[0;31m---------------------------------------------------------------------------\u001b[0m",
      "\u001b[0;31mKeyboardInterrupt\u001b[0m                         Traceback (most recent call last)",
      "\u001b[1;32m/Users/rio.lee/Documents/22y/breast_cancer/src/catboost_best.ipynb 셀 6\u001b[0m in \u001b[0;36m<cell line: 1>\u001b[0;34m()\u001b[0m\n\u001b[1;32m     <a href='vscode-notebook-cell:/Users/rio.lee/Documents/22y/breast_cancer/src/catboost_best.ipynb#X21sZmlsZQ%3D%3D?line=74'>75</a>\u001b[0m df \u001b[39m=\u001b[39m pd\u001b[39m.\u001b[39mconcat([tt, pd\u001b[39m.\u001b[39mDataFrame(tt_target, columns\u001b[39m=\u001b[39m[\u001b[39m'\u001b[39m\u001b[39mtarget\u001b[39m\u001b[39m'\u001b[39m])], axis\u001b[39m=\u001b[39m\u001b[39m1\u001b[39m)\n\u001b[1;32m     <a href='vscode-notebook-cell:/Users/rio.lee/Documents/22y/breast_cancer/src/catboost_best.ipynb#X21sZmlsZQ%3D%3D?line=76'>77</a>\u001b[0m ctgan \u001b[39m=\u001b[39m CTGAN(epochs\u001b[39m=\u001b[39mepoch)\n\u001b[0;32m---> <a href='vscode-notebook-cell:/Users/rio.lee/Documents/22y/breast_cancer/src/catboost_best.ipynb#X21sZmlsZQ%3D%3D?line=77'>78</a>\u001b[0m ctgan\u001b[39m.\u001b[39;49mfit(df)\n\u001b[1;32m     <a href='vscode-notebook-cell:/Users/rio.lee/Documents/22y/breast_cancer/src/catboost_best.ipynb#X21sZmlsZQ%3D%3D?line=78'>79</a>\u001b[0m \u001b[39m# Create synthetic data\u001b[39;00m\n\u001b[1;32m     <a href='vscode-notebook-cell:/Users/rio.lee/Documents/22y/breast_cancer/src/catboost_best.ipynb#X21sZmlsZQ%3D%3D?line=79'>80</a>\u001b[0m synthetic_data \u001b[39m=\u001b[39m ctgan\u001b[39m.\u001b[39msample(samples)\n",
      "File \u001b[0;32m~/opt/anaconda3/envs/ad/lib/python3.9/site-packages/sdv/tabular/base.py:149\u001b[0m, in \u001b[0;36mBaseTabularModel.fit\u001b[0;34m(self, data)\u001b[0m\n\u001b[1;32m    146\u001b[0m \u001b[39mif\u001b[39;00m \u001b[39mself\u001b[39m\u001b[39m.\u001b[39m_metadata\u001b[39m.\u001b[39mget_dtypes(ids\u001b[39m=\u001b[39m\u001b[39mFalse\u001b[39;00m):\n\u001b[1;32m    147\u001b[0m     LOGGER\u001b[39m.\u001b[39mdebug(\n\u001b[1;32m    148\u001b[0m         \u001b[39m'\u001b[39m\u001b[39mFitting \u001b[39m\u001b[39m%s\u001b[39;00m\u001b[39m model to table \u001b[39m\u001b[39m%s\u001b[39;00m\u001b[39m'\u001b[39m, \u001b[39mself\u001b[39m\u001b[39m.\u001b[39m\u001b[39m__class__\u001b[39m\u001b[39m.\u001b[39m\u001b[39m__name__\u001b[39m, \u001b[39mself\u001b[39m\u001b[39m.\u001b[39m_metadata\u001b[39m.\u001b[39mname)\n\u001b[0;32m--> 149\u001b[0m     \u001b[39mself\u001b[39;49m\u001b[39m.\u001b[39;49m_fit(transformed)\n",
      "File \u001b[0;32m~/opt/anaconda3/envs/ad/lib/python3.9/site-packages/sdv/tabular/ctgan.py:57\u001b[0m, in \u001b[0;36mCTGANModel._fit\u001b[0;34m(self, table_data)\u001b[0m\n\u001b[1;32m     54\u001b[0m         \u001b[39mif\u001b[39;00m kind \u001b[39min\u001b[39;00m [\u001b[39m'\u001b[39m\u001b[39mO\u001b[39m\u001b[39m'\u001b[39m, \u001b[39m'\u001b[39m\u001b[39mb\u001b[39m\u001b[39m'\u001b[39m]:\n\u001b[1;32m     55\u001b[0m             categoricals\u001b[39m.\u001b[39mappend(field)\n\u001b[0;32m---> 57\u001b[0m \u001b[39mself\u001b[39;49m\u001b[39m.\u001b[39;49m_model\u001b[39m.\u001b[39;49mfit(\n\u001b[1;32m     58\u001b[0m     table_data,\n\u001b[1;32m     59\u001b[0m     discrete_columns\u001b[39m=\u001b[39;49mcategoricals\n\u001b[1;32m     60\u001b[0m )\n",
      "File \u001b[0;32m~/opt/anaconda3/envs/ad/lib/python3.9/site-packages/ctgan/synthesizers/base.py:50\u001b[0m, in \u001b[0;36mrandom_state.<locals>.wrapper\u001b[0;34m(self, *args, **kwargs)\u001b[0m\n\u001b[1;32m     48\u001b[0m \u001b[39mdef\u001b[39;00m \u001b[39mwrapper\u001b[39m(\u001b[39mself\u001b[39m, \u001b[39m*\u001b[39margs, \u001b[39m*\u001b[39m\u001b[39m*\u001b[39mkwargs):\n\u001b[1;32m     49\u001b[0m     \u001b[39mif\u001b[39;00m \u001b[39mself\u001b[39m\u001b[39m.\u001b[39mrandom_states \u001b[39mis\u001b[39;00m \u001b[39mNone\u001b[39;00m:\n\u001b[0;32m---> 50\u001b[0m         \u001b[39mreturn\u001b[39;00m function(\u001b[39mself\u001b[39;49m, \u001b[39m*\u001b[39;49margs, \u001b[39m*\u001b[39;49m\u001b[39m*\u001b[39;49mkwargs)\n\u001b[1;32m     52\u001b[0m     \u001b[39melse\u001b[39;00m:\n\u001b[1;32m     53\u001b[0m         \u001b[39mwith\u001b[39;00m set_random_states(\u001b[39mself\u001b[39m\u001b[39m.\u001b[39mrandom_states, \u001b[39mself\u001b[39m\u001b[39m.\u001b[39mset_random_state):\n",
      "File \u001b[0;32m~/opt/anaconda3/envs/ad/lib/python3.9/site-packages/ctgan/synthesizers/ctgan.py:385\u001b[0m, in \u001b[0;36mCTGANSynthesizer.fit\u001b[0;34m(self, train_data, discrete_columns, epochs)\u001b[0m\n\u001b[1;32m    382\u001b[0m loss_d \u001b[39m=\u001b[39m \u001b[39m-\u001b[39m(torch\u001b[39m.\u001b[39mmean(y_real) \u001b[39m-\u001b[39m torch\u001b[39m.\u001b[39mmean(y_fake))\n\u001b[1;32m    384\u001b[0m optimizerD\u001b[39m.\u001b[39mzero_grad()\n\u001b[0;32m--> 385\u001b[0m pen\u001b[39m.\u001b[39;49mbackward(retain_graph\u001b[39m=\u001b[39;49m\u001b[39mTrue\u001b[39;49;00m)\n\u001b[1;32m    386\u001b[0m loss_d\u001b[39m.\u001b[39mbackward()\n\u001b[1;32m    387\u001b[0m optimizerD\u001b[39m.\u001b[39mstep()\n",
      "File \u001b[0;32m~/opt/anaconda3/envs/ad/lib/python3.9/site-packages/torch/_tensor.py:482\u001b[0m, in \u001b[0;36mTensor.backward\u001b[0;34m(self, gradient, retain_graph, create_graph, inputs)\u001b[0m\n\u001b[1;32m    472\u001b[0m \u001b[39mif\u001b[39;00m has_torch_function_unary(\u001b[39mself\u001b[39m):\n\u001b[1;32m    473\u001b[0m     \u001b[39mreturn\u001b[39;00m handle_torch_function(\n\u001b[1;32m    474\u001b[0m         Tensor\u001b[39m.\u001b[39mbackward,\n\u001b[1;32m    475\u001b[0m         (\u001b[39mself\u001b[39m,),\n\u001b[0;32m   (...)\u001b[0m\n\u001b[1;32m    480\u001b[0m         inputs\u001b[39m=\u001b[39minputs,\n\u001b[1;32m    481\u001b[0m     )\n\u001b[0;32m--> 482\u001b[0m torch\u001b[39m.\u001b[39;49mautograd\u001b[39m.\u001b[39;49mbackward(\n\u001b[1;32m    483\u001b[0m     \u001b[39mself\u001b[39;49m, gradient, retain_graph, create_graph, inputs\u001b[39m=\u001b[39;49minputs\n\u001b[1;32m    484\u001b[0m )\n",
      "File \u001b[0;32m~/opt/anaconda3/envs/ad/lib/python3.9/site-packages/torch/autograd/__init__.py:197\u001b[0m, in \u001b[0;36mbackward\u001b[0;34m(tensors, grad_tensors, retain_graph, create_graph, grad_variables, inputs)\u001b[0m\n\u001b[1;32m    192\u001b[0m     retain_graph \u001b[39m=\u001b[39m create_graph\n\u001b[1;32m    194\u001b[0m \u001b[39m# The reason we repeat same the comment below is that\u001b[39;00m\n\u001b[1;32m    195\u001b[0m \u001b[39m# some Python versions print out the first line of a multi-line function\u001b[39;00m\n\u001b[1;32m    196\u001b[0m \u001b[39m# calls in the traceback and some print out the last line\u001b[39;00m\n\u001b[0;32m--> 197\u001b[0m Variable\u001b[39m.\u001b[39;49m_execution_engine\u001b[39m.\u001b[39;49mrun_backward(  \u001b[39m# Calls into the C++ engine to run the backward pass\u001b[39;49;00m\n\u001b[1;32m    198\u001b[0m     tensors, grad_tensors_, retain_graph, create_graph, inputs,\n\u001b[1;32m    199\u001b[0m     allow_unreachable\u001b[39m=\u001b[39;49m\u001b[39mTrue\u001b[39;49;00m, accumulate_grad\u001b[39m=\u001b[39;49m\u001b[39mTrue\u001b[39;49;00m)\n",
      "\u001b[0;31mKeyboardInterrupt\u001b[0m: "
     ]
    }
   ],
   "source": [
    "for epoch in [10, 20, 30, 40, 50, 60, 70, 80, 90, 100]:\n",
    "    for samples in [50, 100, 200, 300, 400, 500, 600, 700, 800, 900, 1000]:\n",
    "        \n",
    "\n",
    "        df_train = pd.read_csv(data_path+'train.csv')\n",
    "        df_test = pd.read_csv(data_path+'test.csv')\n",
    "\n",
    "        FOLDS = 5\n",
    "\n",
    "        def basic_set():\n",
    "            use_features = [\n",
    "                            '나이', \n",
    "                            '진단명', '암의 위치', '암의 개수', '암의 장경', 'NG', 'HG', 'HG_score_1', 'HG_score_2', 'HG_score_3',\n",
    "                            'DCIS_or_LCIS_여부', 'DCIS_or_LCIS_type', 'T_category', \n",
    "                            'ER', 'ER_Allred_score', 'PR', 'PR_Allred_score', \n",
    "                            'KI-67_LI_percent', \n",
    "                            'HER2', 'HER2_IHC', 'HER2_SISH', 'HER2_SISH_ratio', 'BRCA_mutation', \n",
    "                            ]\n",
    "\n",
    "            cat_features = ['나이', '진단명', '암의 위치', '암의 개수', '암의 장경', 'NG', 'HG', 'HG_score_1',\n",
    "                                    'HG_score_2', 'HG_score_3', 'DCIS_or_LCIS_여부', 'DCIS_or_LCIS_type',\n",
    "                                    'T_category', 'ER', 'ER_Allred_score', 'PR', 'PR_Allred_score',\n",
    "                                    'HER2', 'HER2_IHC', 'HER2_SISH','BRCA_mutation']\n",
    "            cat_features = ['진단명']\n",
    "            return use_features, cat_features\n",
    "\n",
    "        df_train['due_date'] = 2022 - pd.to_datetime(df_train['수술연월일']).dt.year\n",
    "        df_test['due_date'] = 2022 - pd.to_datetime(df_test['수술연월일']).dt.year\n",
    "\n",
    "        df_train['date_year'] = pd.to_datetime(df_train['수술연월일']).dt.year\n",
    "        df_test['date_year'] = pd.to_datetime(df_test['수술연월일']).dt.year\n",
    "\n",
    "        for col in [\n",
    "                            '나이', '진단명', '암의 위치', '암의 개수', 'NG', 'HG', 'HG_score_1', 'HG_score_2', 'HG_score_3',\n",
    "                            'DCIS_or_LCIS_여부', 'DCIS_or_LCIS_type', 'T_category', \n",
    "                            'ER', 'ER_Allred_score', 'PR', 'PR_Allred_score', \n",
    "                            'HER2', 'HER2_IHC', 'HER2_SISH', 'HER2_SISH_ratio', 'BRCA_mutation', 'due_date', 'date_year']:\n",
    "            df_test[col] = df_test[col].map(df_train[col].value_counts(True))\n",
    "            df_train[col] = df_train[col].map(df_train[col].value_counts(True))\n",
    "\n",
    "        skf = StratifiedKFold(n_splits=FOLDS, random_state=42, shuffle=True)\n",
    "        splits = list(skf.split(df_train, df_train['N_category']))\n",
    "\n",
    "        fi_df = pd.DataFrame()\n",
    "        oof = np.zeros(len(df_train))\n",
    "        preds = np.zeros(len(df_test))\n",
    "\n",
    "        for fold in range(FOLDS):\n",
    "            print('start fold :', fold)\n",
    "            test = df_test.copy()\n",
    "            \n",
    "            use_features, cat_features = basic_set()\n",
    "            use_features += ['due_date', 'date_year']\n",
    "            # use_features += ['due_date', 'date_year', '암의 장경/개수']\n",
    "\n",
    "            tt = df_train.loc[splits[fold][0], use_features].reset_index(drop=True)\n",
    "            tt_target = df_train.loc[splits[fold][0], 'N_category'].values\n",
    "            vv = df_train.loc[splits[fold][1], use_features].reset_index(drop=True)\n",
    "            vv_target = df_train.loc[splits[fold][1], 'N_category'].values\n",
    "\n",
    "            for df in [tt, vv, test]:\n",
    "                df['암의 장경'] = pd.cut(df['암의 장경'], [0, 10, 20, 30, 40, 50, 60, 70, 80, 90, 100, 200])\n",
    "            for col in ['암의 장경']:\n",
    "                tmp_dict = {j:i for i,j in enumerate(np.unique(tt[col].astype(str)))}\n",
    "                tt[col] = tt[col].astype(str).map(tmp_dict)\n",
    "                vv[col] = vv[col].astype(str).map(tmp_dict)\n",
    "                test[col] = test[col].astype(str).map(tmp_dict)\n",
    "\n",
    "            # generate dataset\n",
    "            # tt = tt.fillna(0)\n",
    "            # vv = vv.fillna(0)\n",
    "            # test = test.fillna(0)\n",
    "\n",
    "            # discrete_columns = ['암의 장경', 'target']\n",
    "            df = pd.concat([tt, pd.DataFrame(tt_target, columns=['target'])], axis=1)\n",
    "\n",
    "            ctgan = CTGAN(epochs=epoch)\n",
    "            ctgan.fit(df)\n",
    "            # Create synthetic data\n",
    "            synthetic_data = ctgan.sample(samples)\n",
    "            df = pd.concat([df, synthetic_data], ignore_index=True)\n",
    "            tt_target = df['target'].values\n",
    "            tt = df.drop(columns='target')\n",
    "            \n",
    "            test = test[use_features].reset_index(drop=True)\n",
    "\n",
    "            cat = CatBoostClassifier(\n",
    "                                    n_estimators=5000,\n",
    "                                    learning_rate=0.03,\n",
    "                                    # objective='logloss',\n",
    "                                    # eval_metric='F1',\n",
    "                                    # reg_lambda=0.01,\n",
    "                                    # random_seed=1028,\n",
    "                                    allow_writing_files=False,\n",
    "                                    logging_level='Silent',\n",
    "                                    )\n",
    "            cat.fit(tt, tt_target, eval_set=[(tt, tt_target), (vv, vv_target)], verbose=1000, early_stopping_rounds=500,\n",
    "                    # cat_features=cat_features\n",
    "                    )\n",
    "                    \n",
    "            oof[splits[fold][1]] += cat.predict_proba(vv)[:, 1]\n",
    "            preds += cat.predict_proba(test)[:, 1] / FOLDS\n",
    "            fi_df = pd.concat([fi_df, pd.DataFrame(zip(use_features, cat.feature_importances_), columns=['feature', 'value'])])\n",
    "\n",
    "            os.makedirs(f'../open/ctgan_csv/{epoch}/{samples}/', exist_ok=True)\n",
    "            synthetic_data.to_csv(f'../open/ctgan_csv/{epoch}/{samples}/{fold}.csv', index=False)\n",
    "\n",
    "        f1 = f1_score(df_train['N_category'],\n",
    "                        np.where(oof>0.5, 1, 0),\n",
    "                        average='macro'\n",
    "                        )\n",
    "        \n",
    "        print(epoch, samples, f1)"
   ]
  },
  {
   "cell_type": "code",
   "execution_count": null,
   "metadata": {},
   "outputs": [],
   "source": []
  },
  {
   "cell_type": "code",
   "execution_count": null,
   "metadata": {},
   "outputs": [],
   "source": []
  },
  {
   "cell_type": "code",
   "execution_count": null,
   "metadata": {},
   "outputs": [],
   "source": []
  },
  {
   "cell_type": "code",
   "execution_count": 22,
   "metadata": {},
   "outputs": [
    {
     "data": {
      "text/plain": [
       "1    514\n",
       "0    486\n",
       "Name: N_category, dtype: int64"
      ]
     },
     "execution_count": 22,
     "metadata": {},
     "output_type": "execute_result"
    }
   ],
   "source": [
    "df_train['N_category'].value_counts()"
   ]
  },
  {
   "cell_type": "code",
   "execution_count": 21,
   "metadata": {},
   "outputs": [
    {
     "data": {
      "text/plain": [
       "0    540\n",
       "1    460\n",
       "dtype: int64"
      ]
     },
     "execution_count": 21,
     "metadata": {},
     "output_type": "execute_result"
    }
   ],
   "source": [
    "pd.Series(np.where(oof>0.55, 1, 0)).value_counts()"
   ]
  },
  {
   "cell_type": "code",
   "execution_count": 23,
   "metadata": {},
   "outputs": [
    {
     "data": {
      "text/plain": [
       "0    514\n",
       "1    486\n",
       "dtype: int64"
      ]
     },
     "execution_count": 23,
     "metadata": {},
     "output_type": "execute_result"
    }
   ],
   "source": [
    "pd.Series(np.where(oof>0.5, 1, 0)).value_counts()"
   ]
  },
  {
   "cell_type": "code",
   "execution_count": 24,
   "metadata": {},
   "outputs": [
    {
     "data": {
      "text/plain": [
       "0    140\n",
       "1    110\n",
       "dtype: int64"
      ]
     },
     "execution_count": 24,
     "metadata": {},
     "output_type": "execute_result"
    }
   ],
   "source": [
    "pd.Series(np.where(preds>0.5, 1, 0)).value_counts()"
   ]
  },
  {
   "cell_type": "code",
   "execution_count": 29,
   "metadata": {},
   "outputs": [
    {
     "data": {
      "text/plain": [
       "0    150\n",
       "1    100\n",
       "dtype: int64"
      ]
     },
     "execution_count": 29,
     "metadata": {},
     "output_type": "execute_result"
    }
   ],
   "source": [
    "pd.Series(np.where(preds>0.65, 1, 0)).value_counts()"
   ]
  },
  {
   "cell_type": "code",
   "execution_count": null,
   "metadata": {},
   "outputs": [],
   "source": []
  }
 ],
 "metadata": {
  "kernelspec": {
   "display_name": "ad",
   "language": "python",
   "name": "other-env"
  },
  "language_info": {
   "codemirror_mode": {
    "name": "ipython",
    "version": 3
   },
   "file_extension": ".py",
   "mimetype": "text/x-python",
   "name": "python",
   "nbconvert_exporter": "python",
   "pygments_lexer": "ipython3",
   "version": "3.9.13"
  },
  "orig_nbformat": 4,
  "vscode": {
   "interpreter": {
    "hash": "c3bc5f8aa180f79dc6fbda56bff4e8caaf8fdea0abd59a345cd056711b43be22"
   }
  }
 },
 "nbformat": 4,
 "nbformat_minor": 2
}
