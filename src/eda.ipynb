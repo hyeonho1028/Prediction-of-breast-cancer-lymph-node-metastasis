{
 "cells": [
  {
   "cell_type": "code",
   "execution_count": 11,
   "metadata": {},
   "outputs": [],
   "source": [
    "import yaml\n",
    "import numpy as np\n",
    "import pandas as pd\n",
    "\n",
    "import cv2\n",
    "import albumentations as A\n",
    "\n",
    "import matplotlib.pyplot as plt\n",
    "import seaborn as sns\n",
    "\n",
    "from sklearn.model_selection import StratifiedKFold\n",
    "\n",
    "from utils import obj\n",
    "\n",
    "from lightgbm import LGBMClassifier\n",
    "from catboost import CatBoostClassifier\n",
    "from sklearn.metrics import f1_score\n",
    "\n",
    "pd.options.display.max_columns=100"
   ]
  },
  {
   "cell_type": "code",
   "execution_count": 3,
   "metadata": {},
   "outputs": [],
   "source": [
    "data_path = '../open/'\n",
    "info = pd.read_excel(data_path+'clinical_info.xlsx')\n",
    "\n",
    "df_train = pd.read_csv(data_path+'train.csv')\n",
    "df_test = pd.read_csv(data_path+'test.csv')\n",
    "sub = pd.read_csv(data_path+'sample_submission.csv')\n",
    "\n",
    "df_train['img_path'] = df_train['img_path'].apply(lambda x: x.replace('./', '../open/'))\n",
    "df_test['img_path'] = df_test['img_path'].apply(lambda x: x.replace('./', '../open/'))"
   ]
  },
  {
   "cell_type": "code",
   "execution_count": null,
   "metadata": {},
   "outputs": [],
   "source": [
    "for i, p in enumerate(df_train['img_path']):\n",
    "    img = cv2.imread(p)\n",
    "    trans = A.Resize(224, 224)\n",
    "    img = trans(image=img)['image']\n",
    "    if size_ls[i][0]>3500:\n",
    "        \n",
    "\n",
    "        plt.imshow(img)\n",
    "        plt.show()"
   ]
  },
  {
   "cell_type": "code",
   "execution_count": 37,
   "metadata": {},
   "outputs": [],
   "source": []
  },
  {
   "cell_type": "code",
   "execution_count": 41,
   "metadata": {},
   "outputs": [],
   "source": [
    "size_ls = []\n",
    "\n",
    "for i in df_train['img_path']:\n",
    "    img = cv2.imread(i)\n",
    "    # trans = A.Compose([\n",
    "    #                     A.Resize(224, 224), \n",
    "                    #    A.HorizontalFlip(p=1),\n",
    "                    #    A.CoarseDropout(p=1),\n",
    "                    #    A.Cutout(max_h_size=int(224*0.1), max_w_size=int(224*0.1), num_holes=5, p=0.8),\n",
    "                    #    ])\n",
    "    # img = trans(image=img)['image']\n",
    "    # plt.imshow(img)\n",
    "    # plt.show()\n",
    "    size_ls += [img.shape]"
   ]
  },
  {
   "cell_type": "code",
   "execution_count": null,
   "metadata": {},
   "outputs": [],
   "source": []
  },
  {
   "cell_type": "code",
   "execution_count": null,
   "metadata": {},
   "outputs": [],
   "source": []
  },
  {
   "cell_type": "code",
   "execution_count": null,
   "metadata": {},
   "outputs": [],
   "source": []
  },
  {
   "cell_type": "code",
   "execution_count": null,
   "metadata": {},
   "outputs": [],
   "source": []
  },
  {
   "cell_type": "code",
   "execution_count": 3,
   "metadata": {},
   "outputs": [
    {
     "data": {
      "text/html": [
       "<div>\n",
       "<style scoped>\n",
       "    .dataframe tbody tr th:only-of-type {\n",
       "        vertical-align: middle;\n",
       "    }\n",
       "\n",
       "    .dataframe tbody tr th {\n",
       "        vertical-align: top;\n",
       "    }\n",
       "\n",
       "    .dataframe thead th {\n",
       "        text-align: right;\n",
       "    }\n",
       "</style>\n",
       "<table border=\"1\" class=\"dataframe\">\n",
       "  <thead>\n",
       "    <tr style=\"text-align: right;\">\n",
       "      <th></th>\n",
       "      <th>항목</th>\n",
       "      <th>코딩</th>\n",
       "      <th>설명</th>\n",
       "    </tr>\n",
       "  </thead>\n",
       "  <tbody>\n",
       "    <tr>\n",
       "      <th>0</th>\n",
       "      <td>ID</td>\n",
       "      <td>NaN</td>\n",
       "      <td>부여번호</td>\n",
       "    </tr>\n",
       "    <tr>\n",
       "      <th>1</th>\n",
       "      <td>나이</td>\n",
       "      <td>NaN</td>\n",
       "      <td>진단시 나이</td>\n",
       "    </tr>\n",
       "    <tr>\n",
       "      <th>2</th>\n",
       "      <td>수술연월일</td>\n",
       "      <td>연-월-일</td>\n",
       "      <td>NaN</td>\n",
       "    </tr>\n",
       "    <tr>\n",
       "      <th>3</th>\n",
       "      <td>진단명</td>\n",
       "      <td>1: ductal\\n2: lobular\\n3. mucinous \\n4. other</td>\n",
       "      <td>histologic type</td>\n",
       "    </tr>\n",
       "    <tr>\n",
       "      <th>4</th>\n",
       "      <td>암의 위치</td>\n",
       "      <td>1: Right\\n2: Left\\n3: Both</td>\n",
       "      <td>NaN</td>\n",
       "    </tr>\n",
       "    <tr>\n",
       "      <th>5</th>\n",
       "      <td>암의 개수</td>\n",
       "      <td>1: single\\n2: multiple</td>\n",
       "      <td>NaN</td>\n",
       "    </tr>\n",
       "    <tr>\n",
       "      <th>6</th>\n",
       "      <td>암의 장경</td>\n",
       "      <td>NaN</td>\n",
       "      <td>암 Size (mm), 여러 개의 암일 경우 가장 큰 종양의 장경</td>\n",
       "    </tr>\n",
       "    <tr>\n",
       "      <th>7</th>\n",
       "      <td>NG</td>\n",
       "      <td>1: NG1\\n2: NG2\\n3: NG3</td>\n",
       "      <td>1은 핵의 모양이 정상에 가까운 경우, 2는 중간, 3은 정상으로부터 매우 달라진경...</td>\n",
       "    </tr>\n",
       "    <tr>\n",
       "      <th>8</th>\n",
       "      <td>HG</td>\n",
       "      <td>1: HG1\\n2: HG2\\n3: HG3\\n4. not graded</td>\n",
       "      <td>Grade 1 (scores of 3, 4, or 5): 조직학적 분화도가 좋아서 ...</td>\n",
       "    </tr>\n",
       "    <tr>\n",
       "      <th>9</th>\n",
       "      <td>HG_score_1</td>\n",
       "      <td>1: score 1\\n2: score 2\\n3: score 3\\n4: not graded</td>\n",
       "      <td>(Tubule formation)\\nScore 1 (&gt;75% of tumor are...</td>\n",
       "    </tr>\n",
       "    <tr>\n",
       "      <th>10</th>\n",
       "      <td>HG_score_2</td>\n",
       "      <td>1: score 1\\n2: score 2\\n3: score 3\\n4: not graded</td>\n",
       "      <td>(Nuclear Pleomorphism)\\nScore 1 (nuclei small ...</td>\n",
       "    </tr>\n",
       "    <tr>\n",
       "      <th>11</th>\n",
       "      <td>HG_score_3</td>\n",
       "      <td>1: score 1\\n2: score 2\\n3: score 3\\n4: not graded</td>\n",
       "      <td>(Mitotic Rate)\\nScore 1 (≤3 mitoses per mm2)\\n...</td>\n",
       "    </tr>\n",
       "    <tr>\n",
       "      <th>12</th>\n",
       "      <td>DCIS_or_LCIS_여부</td>\n",
       "      <td>0: no DCIS/LCIS\\n1: DCIS/LCIS present, EIC(-)\\...</td>\n",
       "      <td>제자리암종 (DCIS)의 유무</td>\n",
       "    </tr>\n",
       "    <tr>\n",
       "      <th>13</th>\n",
       "      <td>DCIS_or_LCIS_type</td>\n",
       "      <td>1: non-comedo\\n2: comedo</td>\n",
       "      <td>제자리 암종내 괴사 유무</td>\n",
       "    </tr>\n",
       "    <tr>\n",
       "      <th>14</th>\n",
       "      <td>T_category</td>\n",
       "      <td>0: Tis\\n1: T1\\n2: T2\\n3: T3\\n4: T4</td>\n",
       "      <td>pTis (DCIS): Ductal carcinoma in situ\\npT1: Tu...</td>\n",
       "    </tr>\n",
       "    <tr>\n",
       "      <th>15</th>\n",
       "      <td>ER</td>\n",
       "      <td>0: -\\n1: +</td>\n",
       "      <td>Negative: &lt;1% immunoreactive tumor cells prese...</td>\n",
       "    </tr>\n",
       "    <tr>\n",
       "      <th>16</th>\n",
       "      <td>ER_Allred_score</td>\n",
       "      <td>NaN</td>\n",
       "      <td>정수로 기입 (0 ~ 8) : AS = PS + IS</td>\n",
       "    </tr>\n",
       "    <tr>\n",
       "      <th>17</th>\n",
       "      <td>PR</td>\n",
       "      <td>0: -\\n1: +</td>\n",
       "      <td>Negative: &lt;1% immunoreactive tumor cells prese...</td>\n",
       "    </tr>\n",
       "    <tr>\n",
       "      <th>18</th>\n",
       "      <td>PR_Allred_score</td>\n",
       "      <td>NaN</td>\n",
       "      <td>정수로 기입 (0 ~ 8) : AS = PS + IS</td>\n",
       "    </tr>\n",
       "    <tr>\n",
       "      <th>19</th>\n",
       "      <td>KI-67_LI_percent</td>\n",
       "      <td>NaN</td>\n",
       "      <td>정수로 0~100 범위로 기입. 세포증식의 수치를 표시한 항목입니다.</td>\n",
       "    </tr>\n",
       "    <tr>\n",
       "      <th>20</th>\n",
       "      <td>HER2</td>\n",
       "      <td>0: -\\n1: +</td>\n",
       "      <td>참고: IHC 와 SISH 까지 모두 고려한 결과로 기록, 세포성장이자 수용체의 발...</td>\n",
       "    </tr>\n",
       "    <tr>\n",
       "      <th>21</th>\n",
       "      <td>HER2_IHC</td>\n",
       "      <td>0: Negative (0)\\n1: Negative (1+)\\n2: Equivoca...</td>\n",
       "      <td>NaN</td>\n",
       "    </tr>\n",
       "    <tr>\n",
       "      <th>22</th>\n",
       "      <td>HER2_SISH</td>\n",
       "      <td>0: not amplified (negative)\\n1: amplified (pos...</td>\n",
       "      <td>[Dual Probe ISH Group Definitions]\\n- Group 1 ...</td>\n",
       "    </tr>\n",
       "    <tr>\n",
       "      <th>23</th>\n",
       "      <td>HER2_SISH_ratio</td>\n",
       "      <td>NaN</td>\n",
       "      <td>소수점 첫째자리까지 숫자로 기입</td>\n",
       "    </tr>\n",
       "    <tr>\n",
       "      <th>24</th>\n",
       "      <td>BRCA_mutation</td>\n",
       "      <td>0: No BRCA1, BRCA2 mutation \\n1: BRCA1 mutatio...</td>\n",
       "      <td>검사 시행 안한 경우 빈칸으로, 시행했으나 mutation (의미있는mutation...</td>\n",
       "    </tr>\n",
       "    <tr>\n",
       "      <th>25</th>\n",
       "      <td>N_category</td>\n",
       "      <td>0: 임파선(림프절) 전이 X\\n1: 임파선(림프절) 전이 O</td>\n",
       "      <td>NaN</td>\n",
       "    </tr>\n",
       "  </tbody>\n",
       "</table>\n",
       "</div>"
      ],
      "text/plain": [
       "                   항목                                                 코딩  \\\n",
       "0                  ID                                                NaN   \n",
       "1                  나이                                                NaN   \n",
       "2               수술연월일                                              연-월-일   \n",
       "3                 진단명      1: ductal\\n2: lobular\\n3. mucinous \\n4. other   \n",
       "4               암의 위치                         1: Right\\n2: Left\\n3: Both   \n",
       "5               암의 개수                             1: single\\n2: multiple   \n",
       "6               암의 장경                                                NaN   \n",
       "7                  NG                             1: NG1\\n2: NG2\\n3: NG3   \n",
       "8                  HG              1: HG1\\n2: HG2\\n3: HG3\\n4. not graded   \n",
       "9          HG_score_1  1: score 1\\n2: score 2\\n3: score 3\\n4: not graded   \n",
       "10         HG_score_2  1: score 1\\n2: score 2\\n3: score 3\\n4: not graded   \n",
       "11         HG_score_3  1: score 1\\n2: score 2\\n3: score 3\\n4: not graded   \n",
       "12    DCIS_or_LCIS_여부  0: no DCIS/LCIS\\n1: DCIS/LCIS present, EIC(-)\\...   \n",
       "13  DCIS_or_LCIS_type                           1: non-comedo\\n2: comedo   \n",
       "14         T_category                 0: Tis\\n1: T1\\n2: T2\\n3: T3\\n4: T4   \n",
       "15                 ER                                         0: -\\n1: +   \n",
       "16    ER_Allred_score                                                NaN   \n",
       "17                 PR                                         0: -\\n1: +   \n",
       "18    PR_Allred_score                                                NaN   \n",
       "19   KI-67_LI_percent                                                NaN   \n",
       "20               HER2                                         0: -\\n1: +   \n",
       "21           HER2_IHC  0: Negative (0)\\n1: Negative (1+)\\n2: Equivoca...   \n",
       "22          HER2_SISH  0: not amplified (negative)\\n1: amplified (pos...   \n",
       "23    HER2_SISH_ratio                                                NaN   \n",
       "24      BRCA_mutation  0: No BRCA1, BRCA2 mutation \\n1: BRCA1 mutatio...   \n",
       "25         N_category                 0: 임파선(림프절) 전이 X\\n1: 임파선(림프절) 전이 O   \n",
       "\n",
       "                                                   설명  \n",
       "0                                                부여번호  \n",
       "1                                              진단시 나이  \n",
       "2                                                 NaN  \n",
       "3                                     histologic type  \n",
       "4                                                 NaN  \n",
       "5                                                 NaN  \n",
       "6                암 Size (mm), 여러 개의 암일 경우 가장 큰 종양의 장경  \n",
       "7   1은 핵의 모양이 정상에 가까운 경우, 2는 중간, 3은 정상으로부터 매우 달라진경...  \n",
       "8   Grade 1 (scores of 3, 4, or 5): 조직학적 분화도가 좋아서 ...  \n",
       "9   (Tubule formation)\\nScore 1 (>75% of tumor are...  \n",
       "10  (Nuclear Pleomorphism)\\nScore 1 (nuclei small ...  \n",
       "11  (Mitotic Rate)\\nScore 1 (≤3 mitoses per mm2)\\n...  \n",
       "12                                  제자리암종 (DCIS)의 유무   \n",
       "13                                     제자리 암종내 괴사 유무   \n",
       "14  pTis (DCIS): Ductal carcinoma in situ\\npT1: Tu...  \n",
       "15  Negative: <1% immunoreactive tumor cells prese...  \n",
       "16                     정수로 기입 (0 ~ 8) : AS = PS + IS   \n",
       "17  Negative: <1% immunoreactive tumor cells prese...  \n",
       "18                     정수로 기입 (0 ~ 8) : AS = PS + IS   \n",
       "19            정수로 0~100 범위로 기입. 세포증식의 수치를 표시한 항목입니다.   \n",
       "20  참고: IHC 와 SISH 까지 모두 고려한 결과로 기록, 세포성장이자 수용체의 발...  \n",
       "21                                                NaN  \n",
       "22  [Dual Probe ISH Group Definitions]\\n- Group 1 ...  \n",
       "23                                  소수점 첫째자리까지 숫자로 기입  \n",
       "24  검사 시행 안한 경우 빈칸으로, 시행했으나 mutation (의미있는mutation...  \n",
       "25                                                NaN  "
      ]
     },
     "execution_count": 3,
     "metadata": {},
     "output_type": "execute_result"
    }
   ],
   "source": [
    "info"
   ]
  },
  {
   "cell_type": "code",
   "execution_count": 4,
   "metadata": {},
   "outputs": [],
   "source": [
    "df_train = pd.read_csv(data_path+'train.csv')\n",
    "df_test = pd.read_csv(data_path+'test.csv')\n",
    "\n",
    "# preprocess outlier\n",
    "df_train['PR_Allred_score'] = df_train['PR_Allred_score'].where((0<=df_train['PR_Allred_score']) & (df_train['PR_Allred_score']<=8))\n",
    "\n",
    "for col in ['NG', 'HG', 'HG_score_1', 'HG_score_2', 'HG_score_3', 'DCIS_or_LCIS_type', 'ER_Allred_score', 'PR_Allred_score', 'HER2_SISH_ratio']:\n",
    "    df_train[col].fillna(0, inplace=True)\n",
    "    df_test[col].fillna(0, inplace=True)\n",
    "\n",
    "df_test['암의 장경'].fillna(df_train['암의 장경'].median(), inplace=True)\n",
    "df_train['암의 장경'].fillna(df_train['암의 장경'].median(), inplace=True)\n",
    "\n",
    "df_train['BRCA_mutation'] = df_train['BRCA_mutation'].fillna(1)\n",
    "df_test['BRCA_mutation'] = df_test['BRCA_mutation'].fillna(1)\n",
    "\n",
    "for col in ['T_category', 'HER2', 'HER2_IHC', 'HER2_SISH', 'KI-67_LI_percent']:\n",
    "    df_train[col].fillna(-1, inplace=True)\n",
    "    df_test[col].fillna(-1, inplace=True)\n",
    "\n",
    "    df_train[col]+=1\n",
    "    df_test[col]+=1\n",
    "\n",
    "df_train[['ER', 'PR']] = df_train[['ER', 'PR']].fillna(0)\n",
    "# remove ER, PR nan value\n",
    "# df_train = df_train.drop(266).reset_index(drop=True)"
   ]
  },
  {
   "cell_type": "code",
   "execution_count": null,
   "metadata": {},
   "outputs": [],
   "source": []
  },
  {
   "cell_type": "code",
   "execution_count": 81,
   "metadata": {},
   "outputs": [
    {
     "name": "stdout",
     "output_type": "stream",
     "text": [
      "start fold : 0\n",
      "start fold : 1\n",
      "start fold : 2\n",
      "start fold : 3\n",
      "start fold : 4\n"
     ]
    }
   ],
   "source": [
    "df_train = pd.read_csv(data_path+'df_train.csv')\n",
    "df_test = pd.read_csv(data_path+'df_test.csv')\n",
    "\n",
    "# preprocess outlier\n",
    "# df_train['PR_Allred_score'] = df_train['PR_Allred_score'].where((0<=df_train['PR_Allred_score']) & (df_train['PR_Allred_score']<=8))\n",
    "\n",
    "# for col in ['NG', 'HG', 'HG_score_1', 'HG_score_2', 'HG_score_3', 'DCIS_or_LCIS_type', 'ER_Allred_score', 'PR_Allred_score', 'HER2_SISH_ratio']:\n",
    "#     df_train[col].fillna(0, inplace=True)\n",
    "#     df_test[col].fillna(0, inplace=True)\n",
    "\n",
    "# df_test['암의 장경'].fillna(df_train['암의 장경'].median(), inplace=True)\n",
    "# df_train['암의 장경'].fillna(df_train['암의 장경'].median(), inplace=True)\n",
    "\n",
    "# df_train['BRCA_mutation'] = df_train['BRCA_mutation'].fillna(1)\n",
    "# df_test['BRCA_mutation'] = df_test['BRCA_mutation'].fillna(1)\n",
    "\n",
    "# for col in ['T_category', 'HER2', 'HER2_IHC', 'HER2_SISH', 'KI-67_LI_percent']:\n",
    "#     df_train[col].fillna(-1, inplace=True)\n",
    "#     df_test[col].fillna(-1, inplace=True)\n",
    "\n",
    "#     df_train[col]+=1\n",
    "#     df_test[col]+=1\n",
    "\n",
    "# # remove ER, PR nan value\n",
    "# df_train = df_train.drop(266).reset_index(drop=True)\n",
    "\n",
    "FOLDS = 5\n",
    "\n",
    "def basic_set():\n",
    "    use_features = [\n",
    "                    '나이', '진단명', '암의 위치', '암의 개수', '암의 장경', 'NG', 'HG', 'HG_score_1', 'HG_score_2', 'HG_score_3',\n",
    "                    'DCIS_or_LCIS_여부', 'DCIS_or_LCIS_type', 'T_category', \n",
    "                    'ER', 'ER_Allred_score', 'PR', 'PR_Allred_score', \n",
    "                    'KI-67_LI_percent', \n",
    "                    'HER2', 'HER2_IHC', 'HER2_SISH', 'HER2_SISH_ratio', 'BRCA_mutation', \n",
    "                    'img_height', 'img_width',\n",
    "                    # 'BRCA_mutation2',\n",
    "                    ]\n",
    "\n",
    "    cat_features = ['나이', '진단명', '암의 위치', '암의 개수', '암의 장경', 'NG', 'HG', 'HG_score_1',\n",
    "                            'HG_score_2', 'HG_score_3', 'DCIS_or_LCIS_여부', 'DCIS_or_LCIS_type',\n",
    "                            'T_category', 'ER', 'ER_Allred_score', 'PR', 'PR_Allred_score',\n",
    "                            'HER2', 'HER2_IHC', 'HER2_SISH','BRCA_mutation']\n",
    "    cat_features = ['진단명']\n",
    "    return use_features, cat_features\n",
    "\n",
    "df_train['due_date'] = 2022 - pd.to_datetime(df_train['수술연월일']).dt.year\n",
    "df_test['due_date'] = 2022 - pd.to_datetime(df_test['수술연월일']).dt.year\n",
    "# df_train['due_date2'] = (2022-pd.to_datetime(df_train['수술연월일']).dt.year)*12 + pd.to_datetime(df_train['수술연월일']).dt.month\n",
    "# df_test['due_date2'] = (2022-pd.to_datetime(df_test['수술연월일']).dt.year)*12 + pd.to_datetime(df_test['수술연월일']).dt.month\n",
    "\n",
    "df_train['date_year'] = pd.to_datetime(df_train['수술연월일']).dt.year\n",
    "df_test['date_year'] = pd.to_datetime(df_test['수술연월일']).dt.year\n",
    "\n",
    "# df_train['암의 장경/개수'] = df_train['암의 장경'] / df_train['암의 개수']\n",
    "# df_test['암의 장경/개수'] = df_test['암의 장경'] / df_test['암의 개수']\n",
    "\n",
    "skf = StratifiedKFold(n_splits=FOLDS, random_state=42, shuffle=True)\n",
    "splits = list(skf.split(df_train, df_train['N_category']))\n",
    "# labels = df_train['N_category'].astype(str) + '_' + df_train['due_date'].astype(str)\n",
    "# splits = list(skf.split(df_train, labels))\n",
    "\n",
    "\n",
    "fi_df = pd.DataFrame()\n",
    "oof = np.zeros(len(df_train))\n",
    "preds = np.zeros(len(df_test))\n",
    "\n",
    "for fold in range(FOLDS):\n",
    "    print('start fold :', fold)\n",
    "    test = df_test.copy()\n",
    "    \n",
    "    use_features, cat_features = basic_set()\n",
    "    use_features += ['due_date', 'date_year']\n",
    "    # use_features += ['due_date', 'date_year', '암의 장경/개수']\n",
    "\n",
    "    tt = df_train.loc[splits[fold][0], use_features].reset_index(drop=True)\n",
    "    tt_target = df_train.loc[splits[fold][0], 'N_category'].values\n",
    "    vv = df_train.loc[splits[fold][1], use_features].reset_index(drop=True)\n",
    "    vv_target = df_train.loc[splits[fold][1], 'N_category'].values\n",
    "\n",
    "    for df in [tt, vv, test]:\n",
    "        df['나이'] = pd.cut(df['나이'], [20, 30, 40, 50, 60, 70, 80, 100])\n",
    "        # df['암의 장경'] = pd.cut(df['암의 장경'], [0, 10, 20, 30, 40, 50, 60, 70, 80, 90, 100, 200])\n",
    "        df['암의 장경'] = pd.cut(df['암의 장경'], [0, 20, 40, 60, 80, 100, 200])\n",
    "        # df['암의 장경/개수'] = pd.cut(df['암의 장경/개수'], [0, 10, 20, 30, 40, 50, 60, 70, 80, 90, 100, 200])\n",
    "        # df['KI-67_LI_percent'] = pd.cut(df['KI-67_LI_percent'], [0, 20, 40, 60, 80, 100])\n",
    "        \n",
    "    # for col in ['나이', '암의 장경', '암의 장경/개수']:\n",
    "    # for col in ['나이', '암의 장경', 'KI-67_LI_percent']:\n",
    "    for col in ['나이', '암의 장경']:\n",
    "        tmp_dict = {j:i for i,j in enumerate(np.unique(tt[col].astype(str)))}\n",
    "        tt[col] = tt[col].astype(str).map(tmp_dict)\n",
    "        vv[col] = vv[col].astype(str).map(tmp_dict)\n",
    "        test[col] = test[col].astype(str).map(tmp_dict)\n",
    "    \n",
    "    # tt['암의 장경2'] = tt['암의 장경'].isnull()\n",
    "    # vv['암의 장경2'] = vv['암의 장경'].isnull()\n",
    "    # test['암의 장경2'] = test['암의 장경'].isnull()\n",
    "\n",
    "    # for df in [tt, vv, test]:\n",
    "    #     # df['나이_due_date'] = df['나이'].astype(str) + '_' + df['due_date'].astype(str)\n",
    "    #     df['암'] = df['암의 위치'].astype(str) + '_' + df['암의 장경'].astype(str)\n",
    "    # df = pd.concat([tt, vv])\n",
    "    # tmp_dict = {v:i for i, v in enumerate(np.unique(df['암']))}\n",
    "    # for col in ['암']:\n",
    "    #     tt[col] = tt[col].astype(str).map(tmp_dict)\n",
    "    #     vv[col] = vv[col].astype(str).map(tmp_dict)\n",
    "    #     test[col] = test[col].astype(str).map(tmp_dict)\n",
    "    \n",
    "    # use_features += ['암']\n",
    "    \n",
    "    # tmp_dict = df_train.loc[splits[fold][0]].groupby('due_date')['N_category'].mean()\n",
    "    # tt['진단명_target'] = tt['due_date'].map(tmp_dict)\n",
    "    # vv['진단명_target'] = vv['due_date'].map(tmp_dict)\n",
    "    # tmp_dict = df_train.groupby('due_date')['N_category'].mean()\n",
    "    # test['진단명_target'] = test['due_date'].map(tmp_dict)\n",
    "    # use_features += ['진단명_target']\n",
    "\n",
    "    test = test[use_features].reset_index(drop=True)\n",
    "\n",
    "    # lgb = LGBMClassifier(\n",
    "    #                     n_estimators=5000,\n",
    "    #                     learning_rate=0.03,\n",
    "    #                     max_depth=-1,\n",
    "    #                     num_leaves=64,\n",
    "    #                     )\n",
    "\n",
    "    # lgb.fit(tt, tt_target, eval_set=[(tt, tt_target), (vv, vv_target)], verbose=1000, early_stopping_rounds=100)\n",
    "    # oof[splits[fold][1]] += lgb.predict_proba(vv)[:, 1]\n",
    "    # preds += lgb.predict_proba(test)[:, 1] / 5\n",
    "    # fi_df = pd.concat([fi_df, pd.DataFrame(zip(use_features, lgb.feature_importances_), columns=['feature', 'value'])])\n",
    "    # tt[cat_features] = tt[cat_features].fillna(-99).astype(int)\n",
    "    # vv[cat_features] = vv[cat_features].fillna(-99).astype(int)\n",
    "    cat = CatBoostClassifier(\n",
    "                            n_estimators=5000,\n",
    "                            learning_rate=0.03,\n",
    "                            # objective='logloss',\n",
    "                            # eval_metric='F1',\n",
    "                            # reg_lambda=0.01,\n",
    "                            random_seed=1028,\n",
    "                            allow_writing_files=False,\n",
    "                            logging_level='Silent',\n",
    "                            )\n",
    "    cat.fit(tt, tt_target, eval_set=[(tt, tt_target), (vv, vv_target)], verbose=1000, early_stopping_rounds=500,\n",
    "            # cat_features=cat_features\n",
    "            \n",
    "            )\n",
    "    oof[splits[fold][1]] += cat.predict_proba(vv)[:, 1]\n",
    "    preds += cat.predict_proba(test)[:, 1] / FOLDS\n",
    "    fi_df = pd.concat([fi_df, pd.DataFrame(zip(use_features, cat.feature_importances_), columns=['feature', 'value'])])"
   ]
  },
  {
   "cell_type": "code",
   "execution_count": null,
   "metadata": {},
   "outputs": [],
   "source": []
  },
  {
   "cell_type": "code",
   "execution_count": 82,
   "metadata": {},
   "outputs": [
    {
     "data": {
      "text/plain": [
       "0.8249704200009802"
      ]
     },
     "execution_count": 82,
     "metadata": {},
     "output_type": "execute_result"
    }
   ],
   "source": [
    "f1_score(df_train['N_category'],\n",
    "        np.where(oof>0.5, 1, 0),\n",
    "        average='macro'\n",
    "        )"
   ]
  },
  {
   "cell_type": "code",
   "execution_count": 83,
   "metadata": {},
   "outputs": [
    {
     "data": {
      "text/plain": [
       "0.8249704200009802"
      ]
     },
     "execution_count": 83,
     "metadata": {},
     "output_type": "execute_result"
    }
   ],
   "source": [
    "f1_score(df_train['N_category'],\n",
    "        np.where(oof>0.5, 1, 0),\n",
    "        average='macro'\n",
    "        )"
   ]
  },
  {
   "cell_type": "code",
   "execution_count": 84,
   "metadata": {},
   "outputs": [],
   "source": [
    "a = pd.read_csv('../submit/best.csv')"
   ]
  },
  {
   "cell_type": "code",
   "execution_count": 85,
   "metadata": {},
   "outputs": [
    {
     "data": {
      "text/plain": [
       "8"
      ]
     },
     "execution_count": 85,
     "metadata": {},
     "output_type": "execute_result"
    }
   ],
   "source": [
    "sum(a['N_category']!=preds.round())"
   ]
  },
  {
   "cell_type": "code",
   "execution_count": null,
   "metadata": {},
   "outputs": [],
   "source": []
  },
  {
   "cell_type": "code",
   "execution_count": null,
   "metadata": {},
   "outputs": [],
   "source": []
  },
  {
   "cell_type": "code",
   "execution_count": 414,
   "metadata": {},
   "outputs": [
    {
     "data": {
      "text/html": [
       "<div>\n",
       "<style scoped>\n",
       "    .dataframe tbody tr th:only-of-type {\n",
       "        vertical-align: middle;\n",
       "    }\n",
       "\n",
       "    .dataframe tbody tr th {\n",
       "        vertical-align: top;\n",
       "    }\n",
       "\n",
       "    .dataframe thead th {\n",
       "        text-align: right;\n",
       "    }\n",
       "</style>\n",
       "<table border=\"1\" class=\"dataframe\">\n",
       "  <thead>\n",
       "    <tr style=\"text-align: right;\">\n",
       "      <th></th>\n",
       "      <th>feature</th>\n",
       "      <th>value</th>\n",
       "    </tr>\n",
       "  </thead>\n",
       "  <tbody>\n",
       "    <tr>\n",
       "      <th>19</th>\n",
       "      <td>due_date</td>\n",
       "      <td>16.677493</td>\n",
       "    </tr>\n",
       "    <tr>\n",
       "      <th>18</th>\n",
       "      <td>date_year</td>\n",
       "      <td>13.121424</td>\n",
       "    </tr>\n",
       "    <tr>\n",
       "      <th>14</th>\n",
       "      <td>NG</td>\n",
       "      <td>11.432816</td>\n",
       "    </tr>\n",
       "    <tr>\n",
       "      <th>11</th>\n",
       "      <td>HG_score_2</td>\n",
       "      <td>6.966082</td>\n",
       "    </tr>\n",
       "    <tr>\n",
       "      <th>13</th>\n",
       "      <td>KI-67_LI_percent</td>\n",
       "      <td>5.587786</td>\n",
       "    </tr>\n",
       "    <tr>\n",
       "      <th>22</th>\n",
       "      <td>암의 위치</td>\n",
       "      <td>3.982920</td>\n",
       "    </tr>\n",
       "    <tr>\n",
       "      <th>16</th>\n",
       "      <td>PR_Allred_score</td>\n",
       "      <td>3.761313</td>\n",
       "    </tr>\n",
       "    <tr>\n",
       "      <th>23</th>\n",
       "      <td>암의 장경</td>\n",
       "      <td>3.517789</td>\n",
       "    </tr>\n",
       "    <tr>\n",
       "      <th>1</th>\n",
       "      <td>DCIS_or_LCIS_type</td>\n",
       "      <td>3.505500</td>\n",
       "    </tr>\n",
       "    <tr>\n",
       "      <th>20</th>\n",
       "      <td>나이</td>\n",
       "      <td>3.345240</td>\n",
       "    </tr>\n",
       "    <tr>\n",
       "      <th>10</th>\n",
       "      <td>HG_score_1</td>\n",
       "      <td>3.033843</td>\n",
       "    </tr>\n",
       "    <tr>\n",
       "      <th>21</th>\n",
       "      <td>암의 개수</td>\n",
       "      <td>2.527402</td>\n",
       "    </tr>\n",
       "    <tr>\n",
       "      <th>2</th>\n",
       "      <td>DCIS_or_LCIS_여부</td>\n",
       "      <td>2.526846</td>\n",
       "    </tr>\n",
       "    <tr>\n",
       "      <th>17</th>\n",
       "      <td>T_category</td>\n",
       "      <td>2.524419</td>\n",
       "    </tr>\n",
       "    <tr>\n",
       "      <th>4</th>\n",
       "      <td>ER_Allred_score</td>\n",
       "      <td>2.505987</td>\n",
       "    </tr>\n",
       "    <tr>\n",
       "      <th>9</th>\n",
       "      <td>HG</td>\n",
       "      <td>2.435604</td>\n",
       "    </tr>\n",
       "    <tr>\n",
       "      <th>24</th>\n",
       "      <td>진단명</td>\n",
       "      <td>2.426452</td>\n",
       "    </tr>\n",
       "    <tr>\n",
       "      <th>6</th>\n",
       "      <td>HER2_IHC</td>\n",
       "      <td>2.121206</td>\n",
       "    </tr>\n",
       "    <tr>\n",
       "      <th>8</th>\n",
       "      <td>HER2_SISH_ratio</td>\n",
       "      <td>1.998072</td>\n",
       "    </tr>\n",
       "    <tr>\n",
       "      <th>12</th>\n",
       "      <td>HG_score_3</td>\n",
       "      <td>1.654787</td>\n",
       "    </tr>\n",
       "    <tr>\n",
       "      <th>15</th>\n",
       "      <td>PR</td>\n",
       "      <td>1.534636</td>\n",
       "    </tr>\n",
       "    <tr>\n",
       "      <th>7</th>\n",
       "      <td>HER2_SISH</td>\n",
       "      <td>1.209261</td>\n",
       "    </tr>\n",
       "    <tr>\n",
       "      <th>5</th>\n",
       "      <td>HER2</td>\n",
       "      <td>0.876101</td>\n",
       "    </tr>\n",
       "    <tr>\n",
       "      <th>3</th>\n",
       "      <td>ER</td>\n",
       "      <td>0.370943</td>\n",
       "    </tr>\n",
       "    <tr>\n",
       "      <th>0</th>\n",
       "      <td>BRCA_mutation</td>\n",
       "      <td>0.356079</td>\n",
       "    </tr>\n",
       "  </tbody>\n",
       "</table>\n",
       "</div>"
      ],
      "text/plain": [
       "              feature      value\n",
       "19           due_date  16.677493\n",
       "18          date_year  13.121424\n",
       "14                 NG  11.432816\n",
       "11         HG_score_2   6.966082\n",
       "13   KI-67_LI_percent   5.587786\n",
       "22              암의 위치   3.982920\n",
       "16    PR_Allred_score   3.761313\n",
       "23              암의 장경   3.517789\n",
       "1   DCIS_or_LCIS_type   3.505500\n",
       "20                 나이   3.345240\n",
       "10         HG_score_1   3.033843\n",
       "21              암의 개수   2.527402\n",
       "2     DCIS_or_LCIS_여부   2.526846\n",
       "17         T_category   2.524419\n",
       "4     ER_Allred_score   2.505987\n",
       "9                  HG   2.435604\n",
       "24                진단명   2.426452\n",
       "6            HER2_IHC   2.121206\n",
       "8     HER2_SISH_ratio   1.998072\n",
       "12         HG_score_3   1.654787\n",
       "15                 PR   1.534636\n",
       "7           HER2_SISH   1.209261\n",
       "5                HER2   0.876101\n",
       "3                  ER   0.370943\n",
       "0       BRCA_mutation   0.356079"
      ]
     },
     "execution_count": 414,
     "metadata": {},
     "output_type": "execute_result"
    }
   ],
   "source": [
    "fi_df.groupby('feature').mean().reset_index().sort_values('value', ascending=False)"
   ]
  },
  {
   "cell_type": "code",
   "execution_count": 428,
   "metadata": {},
   "outputs": [
    {
     "data": {
      "text/plain": [
       "0    0.533534\n",
       "1    0.466466\n",
       "dtype: float64"
      ]
     },
     "execution_count": 428,
     "metadata": {},
     "output_type": "execute_result"
    }
   ],
   "source": [
    "pd.Series(np.where(oof>0.55, 1, 0)).value_counts(True)"
   ]
  },
  {
   "cell_type": "code",
   "execution_count": 431,
   "metadata": {},
   "outputs": [
    {
     "data": {
      "text/plain": [
       "1    0.514515\n",
       "0    0.485485\n",
       "Name: N_category, dtype: float64"
      ]
     },
     "execution_count": 431,
     "metadata": {},
     "output_type": "execute_result"
    }
   ],
   "source": [
    "df_train['N_category'].value_counts(True)"
   ]
  },
  {
   "cell_type": "code",
   "execution_count": 433,
   "metadata": {},
   "outputs": [
    {
     "data": {
      "text/plain": [
       "1    0.512\n",
       "0    0.488\n",
       "dtype: float64"
      ]
     },
     "execution_count": 433,
     "metadata": {},
     "output_type": "execute_result"
    }
   ],
   "source": [
    "pd.Series(np.where(preds>0.4, 1, 0)).value_counts(True)"
   ]
  },
  {
   "cell_type": "code",
   "execution_count": 435,
   "metadata": {},
   "outputs": [
    {
     "data": {
      "text/plain": [
       "1    0.512\n",
       "0    0.488\n",
       "dtype: float64"
      ]
     },
     "execution_count": 435,
     "metadata": {},
     "output_type": "execute_result"
    }
   ],
   "source": [
    "pd.Series(np.where(preds>0.4, 1, 0)).value_counts(True)"
   ]
  },
  {
   "cell_type": "code",
   "execution_count": 79,
   "metadata": {},
   "outputs": [],
   "source": [
    "sub['N_category'] = np.where(preds>=0.5, 1, 0)"
   ]
  },
  {
   "cell_type": "code",
   "execution_count": 80,
   "metadata": {},
   "outputs": [],
   "source": [
    "sub.to_csv('../submit/catboost_img_wh.csv', index=False)"
   ]
  },
  {
   "cell_type": "code",
   "execution_count": 21,
   "metadata": {},
   "outputs": [],
   "source": [
    "np.save('../submit/cat_oof.npy', oof)"
   ]
  },
  {
   "cell_type": "code",
   "execution_count": 22,
   "metadata": {},
   "outputs": [],
   "source": [
    "np.save('../submit/cat_preds.npy', preds)"
   ]
  },
  {
   "cell_type": "code",
   "execution_count": null,
   "metadata": {},
   "outputs": [],
   "source": []
  },
  {
   "cell_type": "code",
   "execution_count": null,
   "metadata": {},
   "outputs": [],
   "source": []
  },
  {
   "cell_type": "code",
   "execution_count": null,
   "metadata": {},
   "outputs": [],
   "source": []
  },
  {
   "cell_type": "code",
   "execution_count": null,
   "metadata": {},
   "outputs": [],
   "source": []
  },
  {
   "cell_type": "code",
   "execution_count": null,
   "metadata": {},
   "outputs": [],
   "source": []
  },
  {
   "cell_type": "code",
   "execution_count": 4,
   "metadata": {},
   "outputs": [],
   "source": [
    "df_train = pd.read_csv(data_path+'df_train.csv')\n",
    "df_test = pd.read_csv(data_path+'df_test.csv')"
   ]
  },
  {
   "cell_type": "code",
   "execution_count": 6,
   "metadata": {},
   "outputs": [],
   "source": [
    "df_train['due_date'] = 2022 - pd.to_datetime(df_train['수술연월일']).dt.year\n",
    "df_test['due_date'] = 2022 - pd.to_datetime(df_test['수술연월일']).dt.year"
   ]
  },
  {
   "cell_type": "code",
   "execution_count": 25,
   "metadata": {},
   "outputs": [
    {
     "data": {
      "text/plain": [
       "0      2_1\n",
       "1      1_1\n",
       "2      2_1\n",
       "3      2_1\n",
       "4      2_1\n",
       "      ... \n",
       "995    2_1\n",
       "996    1_1\n",
       "997    2_1\n",
       "998    1_1\n",
       "999    2_1\n",
       "Length: 1000, dtype: object"
      ]
     },
     "execution_count": 25,
     "metadata": {},
     "output_type": "execute_result"
    }
   ],
   "source": [
    "df_train['암의 위치']df_train['암의 개수'].astype(str)"
   ]
  },
  {
   "cell_type": "code",
   "execution_count": null,
   "metadata": {},
   "outputs": [],
   "source": []
  },
  {
   "cell_type": "code",
   "execution_count": null,
   "metadata": {},
   "outputs": [],
   "source": []
  },
  {
   "cell_type": "code",
   "execution_count": 15,
   "metadata": {},
   "outputs": [
    {
     "name": "stderr",
     "output_type": "stream",
     "text": [
      "c:\\Users\\hhl\\anaconda3\\envs\\ray_pl\\lib\\site-packages\\sklearn\\model_selection\\_split.py:684: UserWarning: The least populated class in y has only 2 members, which is less than n_splits=5.\n",
      "  warnings.warn(\n"
     ]
    },
    {
     "name": "stdout",
     "output_type": "stream",
     "text": [
      "start fold : 0\n",
      "start fold : 1\n",
      "start fold : 2\n",
      "start fold : 3\n",
      "start fold : 4\n"
     ]
    },
    {
     "name": "stderr",
     "output_type": "stream",
     "text": [
      "c:\\Users\\hhl\\anaconda3\\envs\\ray_pl\\lib\\site-packages\\sklearn\\model_selection\\_split.py:684: UserWarning: The least populated class in y has only 2 members, which is less than n_splits=5.\n",
      "  warnings.warn(\n"
     ]
    },
    {
     "name": "stdout",
     "output_type": "stream",
     "text": [
      "start fold : 0\n",
      "start fold : 1\n",
      "start fold : 2\n",
      "start fold : 3\n",
      "start fold : 4\n"
     ]
    },
    {
     "name": "stderr",
     "output_type": "stream",
     "text": [
      "c:\\Users\\hhl\\anaconda3\\envs\\ray_pl\\lib\\site-packages\\sklearn\\model_selection\\_split.py:684: UserWarning: The least populated class in y has only 2 members, which is less than n_splits=5.\n",
      "  warnings.warn(\n"
     ]
    },
    {
     "name": "stdout",
     "output_type": "stream",
     "text": [
      "start fold : 0\n",
      "start fold : 1\n",
      "start fold : 2\n",
      "start fold : 3\n",
      "start fold : 4\n"
     ]
    },
    {
     "name": "stderr",
     "output_type": "stream",
     "text": [
      "c:\\Users\\hhl\\anaconda3\\envs\\ray_pl\\lib\\site-packages\\sklearn\\model_selection\\_split.py:684: UserWarning: The least populated class in y has only 2 members, which is less than n_splits=5.\n",
      "  warnings.warn(\n"
     ]
    },
    {
     "name": "stdout",
     "output_type": "stream",
     "text": [
      "start fold : 0\n",
      "start fold : 1\n",
      "start fold : 2\n",
      "start fold : 3\n",
      "start fold : 4\n"
     ]
    },
    {
     "name": "stderr",
     "output_type": "stream",
     "text": [
      "c:\\Users\\hhl\\anaconda3\\envs\\ray_pl\\lib\\site-packages\\sklearn\\model_selection\\_split.py:684: UserWarning: The least populated class in y has only 2 members, which is less than n_splits=5.\n",
      "  warnings.warn(\n"
     ]
    },
    {
     "name": "stdout",
     "output_type": "stream",
     "text": [
      "start fold : 0\n",
      "start fold : 1\n",
      "start fold : 2\n",
      "start fold : 3\n",
      "start fold : 4\n"
     ]
    }
   ],
   "source": [
    "seed_oof = []\n",
    "seed_pred = []\n",
    "for seed in [1028, 42, 204, 1510, 99]:\n",
    "\n",
    "    df_train = pd.read_csv(data_path+'df_train.csv')\n",
    "    df_test = pd.read_csv(data_path+'df_test.csv')\n",
    "\n",
    "    FOLDS = 5\n",
    "\n",
    "    def basic_set():\n",
    "        use_features = [\n",
    "                        '나이', '진단명', '암의 위치', '암의 개수', '암의 장경', 'NG', 'HG', 'HG_score_1', 'HG_score_2', 'HG_score_3',\n",
    "                        'DCIS_or_LCIS_여부', 'DCIS_or_LCIS_type', 'T_category', \n",
    "                        'ER', 'ER_Allred_score', 'PR', 'PR_Allred_score', \n",
    "                        'KI-67_LI_percent', \n",
    "                        'HER2', 'HER2_IHC', 'HER2_SISH', 'HER2_SISH_ratio', 'BRCA_mutation', \n",
    "                        # 'img_height', 'img_width',\n",
    "                        ]\n",
    "\n",
    "        cat_features = ['나이', '진단명', '암의 위치', '암의 개수', '암의 장경', 'NG', 'HG', 'HG_score_1',\n",
    "                                'HG_score_2', 'HG_score_3', 'DCIS_or_LCIS_여부', 'DCIS_or_LCIS_type',\n",
    "                                'T_category', 'ER', 'ER_Allred_score', 'PR', 'PR_Allred_score',\n",
    "                                'HER2', 'HER2_IHC', 'HER2_SISH','BRCA_mutation']\n",
    "        cat_features = ['진단명']\n",
    "        return use_features, cat_features\n",
    "\n",
    "    df_train['due_date'] = 2022 - pd.to_datetime(df_train['수술연월일']).dt.year\n",
    "    df_test['due_date'] = 2022 - pd.to_datetime(df_test['수술연월일']).dt.year\n",
    "    # df_train['due_date2'] = (2022-pd.to_datetime(df_train['수술연월일']).dt.year)*12 + pd.to_datetime(df_train['수술연월일']).dt.month\n",
    "    # df_test['due_date2'] = (2022-pd.to_datetime(df_test['수술연월일']).dt.year)*12 + pd.to_datetime(df_test['수술연월일']).dt.month\n",
    "\n",
    "    df_train['date_year'] = pd.to_datetime(df_train['수술연월일']).dt.year\n",
    "    df_test['date_year'] = pd.to_datetime(df_test['수술연월일']).dt.year\n",
    "\n",
    "    # df_train['암의 장경/개수'] = df_train['암의 장경'] / df_train['암의 개수']\n",
    "    # df_test['암의 장경/개수'] = df_test['암의 장경'] / df_test['암의 개수']\n",
    "    \n",
    "    \n",
    "    df_train['암의 위치__암의 개수'] = df_train['암의 위치'].map(df_train.groupby(['암의 위치'])['암의 개수'].mean())\n",
    "    df_test['암의 위치__암의 개수'] = df_test['암의 위치'].map(df_train.groupby(['암의 위치'])['암의 개수'].mean())\n",
    "\n",
    "    skf = StratifiedKFold(n_splits=FOLDS, random_state=seed, shuffle=True)\n",
    "    # splits = list(skf.split(df_train, df_train['N_category']))\n",
    "    labels = df_train['N_category'].astype(str) + '_' + df_train['due_date'].astype(str)\n",
    "    splits = list(skf.split(df_train, labels))\n",
    "\n",
    "\n",
    "    fi_df = pd.DataFrame()\n",
    "    oof = np.zeros(len(df_train))\n",
    "    preds = np.zeros(len(df_test))\n",
    "\n",
    "    for fold in range(FOLDS):\n",
    "        print('start fold :', fold)\n",
    "        test = df_test.copy()\n",
    "        \n",
    "        use_features, cat_features = basic_set()\n",
    "        use_features += ['due_date', 'date_year', '암의 위치__암의 개수']\n",
    "        # use_features += ['due_date', 'date_year', '암의 장경/개수']\n",
    "\n",
    "        tt = df_train.loc[splits[fold][0], use_features].reset_index(drop=True)\n",
    "        tt_target = df_train.loc[splits[fold][0], 'N_category'].values\n",
    "        vv = df_train.loc[splits[fold][1], use_features].reset_index(drop=True)\n",
    "        vv_target = df_train.loc[splits[fold][1], 'N_category'].values\n",
    "\n",
    "        for df in [tt, vv, test]:\n",
    "            df['나이'] = pd.cut(df['나이'], [20, 30, 40, 50, 60, 70, 80, 100])\n",
    "            # df['암의 장경'] = pd.cut(df['암의 장경'], [0, 10, 20, 30, 40, 50, 60, 70, 80, 90, 100, 200])\n",
    "            df['암의 장경'] = pd.cut(df['암의 장경'], [0, 20, 40, 60, 80, 100, 200])\n",
    "            # df['암의 장경/개수'] = pd.cut(df['암의 장경/개수'], [0, 10, 20, 30, 40, 50, 60, 70, 80, 90, 100, 200])\n",
    "            # df['KI-67_LI_percent'] = pd.cut(df['KI-67_LI_percent'], [0, 20, 40, 60, 80, 100])\n",
    "            \n",
    "        # for col in ['나이', '암의 장경', '암의 장경/개수']:\n",
    "        # for col in ['나이', '암의 장경', 'KI-67_LI_percent']:\n",
    "        for col in ['나이', '암의 장경']:\n",
    "            tmp_dict = {j:i for i,j in enumerate(np.unique(tt[col].astype(str)))}\n",
    "            tt[col] = tt[col].astype(str).map(tmp_dict)\n",
    "            vv[col] = vv[col].astype(str).map(tmp_dict)\n",
    "            test[col] = test[col].astype(str).map(tmp_dict)\n",
    "        \n",
    "        # tt['암의 장경2'] = tt['암의 장경'].isnull()\n",
    "        # vv['암의 장경2'] = vv['암의 장경'].isnull()\n",
    "        # test['암의 장경2'] = test['암의 장경'].isnull()\n",
    "\n",
    "        # for df in [tt, vv, test]:\n",
    "        #     # df['나이_due_date'] = df['나이'].astype(str) + '_' + df['due_date'].astype(str)\n",
    "        #     df['암'] = df['암의 위치'].astype(str) + '_' + df['암의 장경'].astype(str)\n",
    "        # df = pd.concat([tt, vv])\n",
    "        # tmp_dict = {v:i for i, v in enumerate(np.unique(df['암']))}\n",
    "        # for col in ['암']:\n",
    "        #     tt[col] = tt[col].astype(str).map(tmp_dict)\n",
    "        #     vv[col] = vv[col].astype(str).map(tmp_dict)\n",
    "        #     test[col] = test[col].astype(str).map(tmp_dict)\n",
    "        \n",
    "        # use_features += ['암']\n",
    "        \n",
    "        # tmp_dict = df_train.loc[splits[fold][0]].groupby('due_date')['N_category'].mean()\n",
    "        # tt['진단명_target'] = tt['due_date'].map(tmp_dict)\n",
    "        # vv['진단명_target'] = vv['due_date'].map(tmp_dict)\n",
    "        # tmp_dict = df_train.groupby('due_date')['N_category'].mean()\n",
    "        # test['진단명_target'] = test['due_date'].map(tmp_dict)\n",
    "        # use_features += ['진단명_target']\n",
    "\n",
    "        test = test[use_features].reset_index(drop=True)\n",
    "\n",
    "        # lgb = LGBMClassifier(\n",
    "        #                     n_estimators=5000,\n",
    "        #                     learning_rate=0.03,\n",
    "        #                     max_depth=-1,\n",
    "        #                     num_leaves=64,\n",
    "        #                     )\n",
    "\n",
    "        # lgb.fit(tt, tt_target, eval_set=[(tt, tt_target), (vv, vv_target)], verbose=1000, early_stopping_rounds=100)\n",
    "        # oof[splits[fold][1]] += lgb.predict_proba(vv)[:, 1]\n",
    "        # preds += lgb.predict_proba(test)[:, 1] / 5\n",
    "        # fi_df = pd.concat([fi_df, pd.DataFrame(zip(use_features, lgb.feature_importances_), columns=['feature', 'value'])])\n",
    "        # tt[cat_features] = tt[cat_features].fillna(-99).astype(int)\n",
    "        # vv[cat_features] = vv[cat_features].fillna(-99).astype(int)\n",
    "        cat = CatBoostClassifier(\n",
    "                                n_estimators=5000,\n",
    "                                learning_rate=0.03,\n",
    "                                # objective='logloss',\n",
    "                                # eval_metric='F1',\n",
    "                                reg_lambda=0.01,\n",
    "                                random_seed=seed,\n",
    "                                allow_writing_files=False,\n",
    "                                logging_level='Silent',\n",
    "                                )\n",
    "        cat.fit(tt, tt_target, eval_set=[(tt, tt_target), (vv, vv_target)], verbose=1000, early_stopping_rounds=500,\n",
    "                # cat_features=cat_features\n",
    "                \n",
    "                )\n",
    "        oof[splits[fold][1]] += cat.predict_proba(vv)[:, 1]\n",
    "        preds += cat.predict_proba(test)[:, 1] / FOLDS\n",
    "        fi_df = pd.concat([fi_df, pd.DataFrame(zip(use_features, cat.feature_importances_), columns=['feature', 'value'])])\n",
    "        \n",
    "        \n",
    "    seed_oof.append(oof)\n",
    "    seed_pred.append(preds)"
   ]
  },
  {
   "cell_type": "code",
   "execution_count": 17,
   "metadata": {},
   "outputs": [
    {
     "data": {
      "text/plain": [
       "0.8379837983798379"
      ]
     },
     "execution_count": 17,
     "metadata": {},
     "output_type": "execute_result"
    }
   ],
   "source": [
    "f1_score(df_train['N_category'],\n",
    "         np.mean(seed_oof, 0).round(),\n",
    "         average='macro')"
   ]
  },
  {
   "cell_type": "code",
   "execution_count": null,
   "metadata": {},
   "outputs": [],
   "source": []
  },
  {
   "cell_type": "code",
   "execution_count": 18,
   "metadata": {},
   "outputs": [],
   "source": [
    "sub['N_category'] = np.where(np.mean(seed_pred, 0)>=0.5, 1, 0)"
   ]
  },
  {
   "cell_type": "code",
   "execution_count": 19,
   "metadata": {},
   "outputs": [],
   "source": [
    "sub.to_csv('../submit/catboost__due_date__f1_basis.csv', index=False)"
   ]
  },
  {
   "cell_type": "code",
   "execution_count": null,
   "metadata": {},
   "outputs": [],
   "source": []
  }
 ],
 "metadata": {
  "kernelspec": {
   "display_name": "Python 3.9.7 ('ray_pl')",
   "language": "python",
   "name": "python3"
  },
  "language_info": {
   "codemirror_mode": {
    "name": "ipython",
    "version": 3
   },
   "file_extension": ".py",
   "mimetype": "text/x-python",
   "name": "python",
   "nbconvert_exporter": "python",
   "pygments_lexer": "ipython3",
   "version": "3.9.7"
  },
  "orig_nbformat": 4,
  "vscode": {
   "interpreter": {
    "hash": "65e69a851bb5a179bf7435f637a9dd3f2d67ff7b0f73f2181633d998f9e977c5"
   }
  }
 },
 "nbformat": 4,
 "nbformat_minor": 2
}
