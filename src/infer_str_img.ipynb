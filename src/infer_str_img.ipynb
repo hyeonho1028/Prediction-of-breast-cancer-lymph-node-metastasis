{
 "cells": [
  {
   "cell_type": "code",
   "execution_count": 2,
   "metadata": {},
   "outputs": [],
   "source": [
    "import os\n",
    "import sys\n",
    "\n",
    "sys.path.append('../')\n",
    "\n",
    "import time\n",
    "import yaml\n",
    "import wandb\n",
    "import argparse\n",
    "\n",
    "import pandas as pd\n",
    "import numpy as np\n",
    "# from tabulate import tabulate\n",
    "from sklearn.model_selection import StratifiedKFold\n",
    "\n",
    "import torch\n",
    "\n",
    "from src import BC_Dataset, train_get_transforms, valid_get_transforms\n",
    "from src import pl_Wrapper\n",
    "\n",
    "import pytorch_lightning as pl\n",
    "\n",
    "from pytorch_lightning.callbacks import ModelCheckpoint, LearningRateMonitor\n",
    "\n",
    "from src import obj, seed_everything, pl_Wrapper"
   ]
  },
  {
   "cell_type": "code",
   "execution_count": 4,
   "metadata": {},
   "outputs": [],
   "source": [
    "with open('../conf/base_config.yaml') as f:\n",
    "    conf_yaml = yaml.safe_load(f)\n",
    "\n",
    "config = obj(conf_yaml)\n",
    "config.train_params.init_lr = float(config.train_params.init_lr)\n",
    "config.train_params.min_lr = float(config.train_params.min_lr)\n",
    "\n",
    "seed_everything(config.train_params.seed)\n",
    "\n",
    "df_train = pd.read_csv('../open/train.csv')\n",
    "df_test = pd.read_csv('../open/test.csv')\n",
    "sub = pd.read_csv('../open/sample_submission.csv')\n",
    "\n",
    "df_train['img_path'] = df_train['img_path'].apply(lambda x: x.replace('./', '../open/'))\n",
    "df_test['img_path'] = df_test['img_path'].apply(lambda x: x.replace('./', '../open/'))\n",
    "\n",
    "# preprocess outlier\n",
    "df_train['PR_Allred_score'] = df_train['PR_Allred_score'].where((0<=df_train['PR_Allred_score']) & (df_train['PR_Allred_score']<=8))\n",
    "\n",
    "for col in ['NG', 'HG', 'HG_score_1', 'HG_score_2', 'HG_score_3', 'DCIS_or_LCIS_type', 'ER_Allred_score', 'PR_Allred_score', 'HER2_SISH_ratio']:\n",
    "    df_train[col].fillna(0, inplace=True)\n",
    "    df_test[col].fillna(0, inplace=True)\n",
    "\n",
    "df_test['암의 장경'].fillna(df_train['암의 장경'].median(), inplace=True)\n",
    "df_train['암의 장경'].fillna(df_train['암의 장경'].median(), inplace=True)\n",
    "\n",
    "df_train['BRCA_mutation'] = df_train['BRCA_mutation'].fillna(1)\n",
    "df_test['BRCA_mutation'] = df_test['BRCA_mutation'].fillna(1)\n",
    "\n",
    "for col in ['T_category', 'HER2', 'HER2_IHC', 'HER2_SISH', 'KI-67_LI_percent']:\n",
    "    df_train[col].fillna(-1, inplace=True)\n",
    "    df_test[col].fillna(-1, inplace=True)\n",
    "\n",
    "    df_train[col]+=1\n",
    "    df_test[col]+=1\n",
    "\n",
    "df_train[['ER', 'PR']] = df_train[['ER', 'PR']].fillna(0)\n",
    "\n",
    "for col in config.train_params.cat_features:\n",
    "    tmp_dict = {val:idx for idx, val in enumerate(np.unique(df_train[col]))}\n",
    "    df_train[col] = df_train[col].map(tmp_dict)\n",
    "    df_test[col] = df_test[col].map(tmp_dict)\n",
    "\n",
    "config.train_params.cat_features_ls = df_train[config.train_params.cat_features].nunique().values.tolist()\n",
    "config.train_params.num_numeric_features = len(config.train_params.numeric_features)\n",
    "config.embedding_size = 1024\n",
    "\n",
    "df_test['N_category'] = -1\n",
    "skf = StratifiedKFold(n_splits=config.train_params.folds, random_state=config.train_params.seed, shuffle=True)\n",
    "splits = list(skf.split(df_train, df_train['N_category']))"
   ]
  },
  {
   "cell_type": "code",
   "execution_count": 5,
   "metadata": {},
   "outputs": [],
   "source": [
    "from tqdm import tqdm\n",
    "from torch.utils.data import Dataset, DataLoader\n",
    "from torch.utils.data.sampler import SequentialSampler"
   ]
  },
  {
   "cell_type": "code",
   "execution_count": 7,
   "metadata": {},
   "outputs": [
    {
     "name": "stdout",
     "output_type": "stream",
     "text": [
      "start fold : 1\n"
     ]
    },
    {
     "name": "stderr",
     "output_type": "stream",
     "text": [
      "100%|██████████| 200/200 [00:42<00:00,  4.68it/s]\n",
      "100%|██████████| 250/250 [00:54<00:00,  4.62it/s]\n"
     ]
    },
    {
     "name": "stdout",
     "output_type": "stream",
     "text": [
      "load : ../models/tfb0_str_sigmoid/5fold_0__epoch=26_total_train_loss=0.52724_total_train_f1_score=0.78865_total_val_loss=0.75958_total_val_f1_score=0.80490.ckpt\n"
     ]
    },
    {
     "name": "stderr",
     "output_type": "stream",
     "text": [
      "0it [00:00, ?it/s]/Users/rio.lee/Documents/22y/breast_cancer/src/../src/data.py:78: UserWarning: To copy construct from a tensor, it is recommended to use sourceTensor.clone().detach() or sourceTensor.clone().detach().requires_grad_(True), rather than torch.tensor(sourceTensor).\n",
      "  'img' : torch.tensor(img, dtype=torch.float32),\n",
      "2it [00:02,  1.02s/it]\n",
      "2it [00:02,  1.14s/it]\n"
     ]
    },
    {
     "name": "stdout",
     "output_type": "stream",
     "text": [
      "start fold : 2\n"
     ]
    },
    {
     "name": "stderr",
     "output_type": "stream",
     "text": [
      " 68%|██████▊   | 135/200 [00:29<00:14,  4.62it/s]\n"
     ]
    },
    {
     "ename": "KeyboardInterrupt",
     "evalue": "",
     "output_type": "error",
     "traceback": [
      "\u001b[0;31m---------------------------------------------------------------------------\u001b[0m",
      "\u001b[0;31mKeyboardInterrupt\u001b[0m                         Traceback (most recent call last)",
      "\u001b[1;32m/Users/rio.lee/Documents/22y/breast_cancer/src/infer_str_img.ipynb 셀 4\u001b[0m in \u001b[0;36m<cell line: 4>\u001b[0;34m()\u001b[0m\n\u001b[1;32m     <a href='vscode-notebook-cell:/Users/rio.lee/Documents/22y/breast_cancer/src/infer_str_img.ipynb#W3sZmlsZQ%3D%3D?line=9'>10</a>\u001b[0m valid_transforms \u001b[39m=\u001b[39m valid_get_transforms()\n\u001b[1;32m     <a href='vscode-notebook-cell:/Users/rio.lee/Documents/22y/breast_cancer/src/infer_str_img.ipynb#W3sZmlsZQ%3D%3D?line=11'>12</a>\u001b[0m \u001b[39m# config.train_dataset = BC_Dataset(tt, img_size=config.train_params.img_size, transform=train_transforms)\u001b[39;00m\n\u001b[0;32m---> <a href='vscode-notebook-cell:/Users/rio.lee/Documents/22y/breast_cancer/src/infer_str_img.ipynb#W3sZmlsZQ%3D%3D?line=12'>13</a>\u001b[0m config\u001b[39m.\u001b[39mvalid_dataset \u001b[39m=\u001b[39m BC_Dataset(config, vv, img_size\u001b[39m=\u001b[39;49mconfig\u001b[39m.\u001b[39;49mtrain_params\u001b[39m.\u001b[39;49mimg_size, transform\u001b[39m=\u001b[39;49mvalid_transforms)\n\u001b[1;32m     <a href='vscode-notebook-cell:/Users/rio.lee/Documents/22y/breast_cancer/src/infer_str_img.ipynb#W3sZmlsZQ%3D%3D?line=13'>14</a>\u001b[0m config\u001b[39m.\u001b[39mtest_dataset \u001b[39m=\u001b[39m BC_Dataset(config, df_test, img_size\u001b[39m=\u001b[39mconfig\u001b[39m.\u001b[39mtrain_params\u001b[39m.\u001b[39mimg_size, transform\u001b[39m=\u001b[39mvalid_transforms)\n\u001b[1;32m     <a href='vscode-notebook-cell:/Users/rio.lee/Documents/22y/breast_cancer/src/infer_str_img.ipynb#W3sZmlsZQ%3D%3D?line=15'>16</a>\u001b[0m model \u001b[39m=\u001b[39m pl_Wrapper(config)\u001b[39m.\u001b[39mto(\u001b[39m'\u001b[39m\u001b[39mmps\u001b[39m\u001b[39m'\u001b[39m)\n",
      "File \u001b[0;32m~/Documents/22y/breast_cancer/src/../src/data.py:59\u001b[0m, in \u001b[0;36mBC_Dataset.__init__\u001b[0;34m(self, config, df, img_size, transform)\u001b[0m\n\u001b[1;32m     56\u001b[0m \u001b[39mself\u001b[39m\u001b[39m.\u001b[39mimgs \u001b[39m=\u001b[39m []\n\u001b[1;32m     58\u001b[0m \u001b[39mfor\u001b[39;00m img_path \u001b[39min\u001b[39;00m tqdm(\u001b[39mself\u001b[39m\u001b[39m.\u001b[39mimg_path):\n\u001b[0;32m---> 59\u001b[0m     img \u001b[39m=\u001b[39m cv2\u001b[39m.\u001b[39;49mimread(img_path, cv2\u001b[39m.\u001b[39;49mCOLOR_BGR2RGB)\n\u001b[1;32m     60\u001b[0m     img \u001b[39m=\u001b[39m \u001b[39mself\u001b[39m\u001b[39m.\u001b[39mresize(img)\n\u001b[1;32m     61\u001b[0m     img \u001b[39m=\u001b[39m \u001b[39mself\u001b[39m\u001b[39m.\u001b[39mnormalize(img)\n",
      "\u001b[0;31mKeyboardInterrupt\u001b[0m: "
     ]
    }
   ],
   "source": [
    "valid_preds_fold = {}\n",
    "test_preds_fold = {}\n",
    "\n",
    "config.train_params.selected_folds = [0,1,2,3,4]\n",
    "\n",
    "for fold in config.train_params.selected_folds:\n",
    "    print('start fold :', fold)\n",
    "    config.start_time = time.strftime('%Y-%m-%d_%I:%M', time.localtime(time.time()))\n",
    "    \n",
    "    # tt = df_train.loc[splits[fold][0]].reset_index(drop=True)\n",
    "    vv = df_train.loc[splits[fold][1]].reset_index(drop=True)\n",
    "    valid_transforms = valid_get_transforms()\n",
    "\n",
    "    # config.train_dataset = BC_Dataset(tt, img_size=config.train_params.img_size, transform=train_transforms)\n",
    "    config.valid_dataset = BC_Dataset(config, vv, img_size=config.train_params.img_size, transform=valid_transforms)\n",
    "    config.test_dataset = BC_Dataset(config, df_test, img_size=config.train_params.img_size, transform=valid_transforms)\n",
    "    \n",
    "    model = pl_Wrapper(config).to('mps')\n",
    "\n",
    "    fold_model_path = '../models/tfb0_str_sigmoid/'\n",
    "    model_path = sorted(os.listdir(fold_model_path))[fold]\n",
    "    model.load_state_dict(torch.load(fold_model_path + model_path)['state_dict'])\n",
    "    print('load :', fold_model_path + model_path)\n",
    "    \n",
    "    \n",
    "    valid_dataloader = DataLoader(\n",
    "                                config.valid_dataset,\n",
    "                                batch_size=128,\n",
    "                                num_workers=0,\n",
    "                                shuffle=False,\n",
    "                                sampler=SequentialSampler(config.valid_dataset),\n",
    "                                drop_last=False,\n",
    "                                pin_memory=True)\n",
    "\n",
    "    test_dataloader = DataLoader(\n",
    "                                config.test_dataset,\n",
    "                                batch_size=128,\n",
    "                                num_workers=0,\n",
    "                                shuffle=False,\n",
    "                                sampler=SequentialSampler(config.test_dataset),\n",
    "                                drop_last=False,\n",
    "                                pin_memory=True)\n",
    "\n",
    "\n",
    "    valid_preds = []\n",
    "    valid_labels = []\n",
    "    test_preds = []\n",
    "\n",
    "    model.eval()\n",
    "    with torch.no_grad():\n",
    "        for idx, batch in tqdm(enumerate(valid_dataloader)):\n",
    "            batch = {k: v.to('mps') for k, v in batch.items()}\n",
    "            pred = model(batch['img'], batch['cat_features'], batch['num_features'])\n",
    "            \n",
    "            valid_preds += [pred.clone().detach().cpu()]\n",
    "        \n",
    "        for idx, batch in tqdm(enumerate(test_dataloader)):\n",
    "            batch = {k: v.to('mps') for k, v in batch.items()}\n",
    "            pred = model(batch['img'], batch['cat_features'], batch['num_features'])\n",
    "            \n",
    "            test_preds += [pred.clone().detach().cpu()]\n",
    "            \n",
    "    valid_preds_fold[fold] = valid_preds\n",
    "    test_preds_fold[fold] = test_preds\n",
    "    # break"
   ]
  },
  {
   "cell_type": "code",
   "execution_count": 198,
   "metadata": {},
   "outputs": [
    {
     "name": "stdout",
     "output_type": "stream",
     "text": [
      "start fold : 0\n",
      "start fold : 1\n",
      "start fold : 2\n",
      "start fold : 3\n",
      "start fold : 4\n"
     ]
    }
   ],
   "source": [
    "b0_oof = np.zeros(len(df_train))\n",
    "\n",
    "for fold in config.train_params.selected_folds:\n",
    "    print('start fold :', fold)\n",
    "\n",
    "    b0_oof[splits[fold][1]] = torch.sigmoid(torch.tensor(np.concatenate(valid_preds_fold[fold]))).numpy()[:, 1]"
   ]
  },
  {
   "cell_type": "code",
   "execution_count": 175,
   "metadata": {},
   "outputs": [],
   "source": [
    "labels = np.concatenate([vv for v in valid_labels_fold.values() for vv in v])\n",
    "valids = np.concatenate([torch.sigmoid(vv[:, 1]) for v in valid_preds_fold.values() for vv in v])"
   ]
  },
  {
   "cell_type": "code",
   "execution_count": 203,
   "metadata": {},
   "outputs": [
    {
     "data": {
      "text/plain": [
       "0.8439681748542947"
      ]
     },
     "execution_count": 203,
     "metadata": {},
     "output_type": "execute_result"
    }
   ],
   "source": [
    "from sklearn.metrics import f1_score\n",
    "f1_score(\n",
    "        df_train['N_category'],\n",
    "        (b0_oof*0.01 + cat_oof*0.99).round(),\n",
    "        average='weighted')"
   ]
  },
  {
   "cell_type": "code",
   "execution_count": 199,
   "metadata": {},
   "outputs": [
    {
     "data": {
      "text/plain": [
       "0.7196503586065573"
      ]
     },
     "execution_count": 199,
     "metadata": {},
     "output_type": "execute_result"
    }
   ],
   "source": [
    "from sklearn.metrics import f1_score\n",
    "f1_score(\n",
    "        df_train['N_category'],\n",
    "        b0_oof.round(),\n",
    "        average='weighted')"
   ]
  },
  {
   "cell_type": "code",
   "execution_count": 200,
   "metadata": {},
   "outputs": [
    {
     "data": {
      "text/plain": [
       "0.8449744243606091"
      ]
     },
     "execution_count": 200,
     "metadata": {},
     "output_type": "execute_result"
    }
   ],
   "source": [
    "from sklearn.metrics import f1_score\n",
    "f1_score(\n",
    "        df_train['N_category'],\n",
    "        cat_oof.round(),\n",
    "        average='weighted')"
   ]
  },
  {
   "cell_type": "code",
   "execution_count": null,
   "metadata": {},
   "outputs": [],
   "source": []
  },
  {
   "cell_type": "code",
   "execution_count": 188,
   "metadata": {},
   "outputs": [],
   "source": [
    "# sub['N_category'] = np.mean([np.concatenate(p) for p in test_preds_fold.values()], 0).argmax(1)\n",
    "\n",
    "# sub['N_category'] = np.mean([torch.sigmoid(torch.cat(p)).numpy() for p in test_preds_fold.values()], 0).argmax(1)\n",
    "\n",
    "sub['N_category'] = (b0_preds*0.1 + cat_pred*0.9).round()"
   ]
  },
  {
   "cell_type": "code",
   "execution_count": 189,
   "metadata": {},
   "outputs": [],
   "source": [
    "sub.to_csv('../submit/b0_1__cat_9.csv', index=False)"
   ]
  },
  {
   "cell_type": "code",
   "execution_count": 146,
   "metadata": {},
   "outputs": [],
   "source": [
    "cat_oof = np.load('../submit/cat_oof.npy')\n",
    "cat_pred = np.load('../submit/cat_preds.npy')"
   ]
  },
  {
   "cell_type": "code",
   "execution_count": null,
   "metadata": {},
   "outputs": [],
   "source": []
  }
 ],
 "metadata": {
  "kernelspec": {
   "display_name": "Python 3.8.13 ('traffic')",
   "language": "python",
   "name": "python3"
  },
  "language_info": {
   "codemirror_mode": {
    "name": "ipython",
    "version": 3
   },
   "file_extension": ".py",
   "mimetype": "text/x-python",
   "name": "python",
   "nbconvert_exporter": "python",
   "pygments_lexer": "ipython3",
   "version": "3.8.13"
  },
  "orig_nbformat": 4,
  "vscode": {
   "interpreter": {
    "hash": "c3bc5f8aa180f79dc6fbda56bff4e8caaf8fdea0abd59a345cd056711b43be22"
   }
  }
 },
 "nbformat": 4,
 "nbformat_minor": 2
}
