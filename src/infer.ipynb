{
 "cells": [
  {
   "cell_type": "code",
   "execution_count": 3,
   "metadata": {},
   "outputs": [],
   "source": [
    "import os\n",
    "import sys\n",
    "\n",
    "sys.path.append('../')\n",
    "\n",
    "import time\n",
    "import yaml\n",
    "import wandb\n",
    "import argparse\n",
    "\n",
    "import pandas as pd\n",
    "import numpy as np\n",
    "# from tabulate import tabulate\n",
    "from sklearn.model_selection import StratifiedKFold\n",
    "\n",
    "import torch\n",
    "\n",
    "from src import BC_Dataset, train_get_transforms, valid_get_transforms\n",
    "from src import pl_Wrapper\n",
    "\n",
    "import pytorch_lightning as pl\n",
    "\n",
    "from pytorch_lightning.callbacks import ModelCheckpoint, LearningRateMonitor\n",
    "\n",
    "from src import obj, seed_everything, pl_Wrapper"
   ]
  },
  {
   "cell_type": "code",
   "execution_count": 24,
   "metadata": {},
   "outputs": [],
   "source": [
    "with open('../conf/base_config.yaml') as f:\n",
    "    conf_yaml = yaml.safe_load(f)\n",
    "\n",
    "config = obj(conf_yaml)\n",
    "config.train_params.init_lr = float(config.train_params.init_lr)\n",
    "config.train_params.min_lr = float(config.train_params.min_lr)\n",
    "\n",
    "seed_everything(config.train_params.seed)\n",
    "\n",
    "df_train = pd.read_csv('../open/train.csv')\n",
    "df_test = pd.read_csv('../open/test.csv')\n",
    "sub = pd.read_csv('../open/sample_submission.csv')\n",
    "\n",
    "df_train['img_path'] = df_train['img_path'].apply(lambda x: x.replace('./', '../open/'))\n",
    "df_test['img_path'] = df_test['img_path'].apply(lambda x: x.replace('./', '../open/'))\n",
    "\n",
    "skf = StratifiedKFold(n_splits=config.train_params.folds, random_state=config.train_params.seed, shuffle=True)\n",
    "splits = list(skf.split(df_train, df_train['N_category']))\n",
    "\n",
    "df_test['N_category'] = -1"
   ]
  },
  {
   "cell_type": "code",
   "execution_count": 29,
   "metadata": {},
   "outputs": [],
   "source": [
    "from tqdm import tqdm\n",
    "from torch.utils.data import Dataset, DataLoader\n",
    "from torch.utils.data.sampler import SequentialSampler"
   ]
  },
  {
   "cell_type": "code",
   "execution_count": null,
   "metadata": {},
   "outputs": [],
   "source": [
    "valid_preds_fold = {}\n",
    "test_preds_fold = {}\n",
    "\n",
    "for fold in config.train_params.selected_folds:\n",
    "    print('start fold :', fold)\n",
    "    config.start_time = time.strftime('%Y-%m-%d_%I:%M', time.localtime(time.time()))\n",
    "    \n",
    "    # tt = df_train.loc[splits[fold][0]].reset_index(drop=True)\n",
    "    vv = df_train.loc[splits[fold][1]].reset_index(drop=True)\n",
    "    valid_transforms = valid_get_transforms()\n",
    "\n",
    "    # config.train_dataset = BC_Dataset(tt, img_size=config.train_params.img_size, transform=train_transforms)\n",
    "    config.valid_dataset = BC_Dataset(vv, img_size=config.train_params.img_size, transform=valid_transforms)\n",
    "    config.test_dataset = BC_Dataset(df_test, img_size=config.train_params.img_size, transform=valid_transforms)\n",
    "    \n",
    "    model = pl_Wrapper(config).to('mps')\n",
    "\n",
    "    fold_model_path = '../models/tfb0/'\n",
    "    model_path = sorted(os.listdir(fold_model_path))[fold]\n",
    "    model.load_state_dict(torch.load(fold_model_path + model_path)['state_dict'])\n",
    "    print('load :', fold_model_path + model_path)\n",
    "    \n",
    "    \n",
    "    valid_dataloader = DataLoader(\n",
    "                                config.valid_dataset,\n",
    "                                batch_size=128,\n",
    "                                num_workers=0,\n",
    "                                shuffle=False,\n",
    "                                sampler=SequentialSampler(config.valid_dataset),\n",
    "                                drop_last=False,\n",
    "                                pin_memory=True)\n",
    "\n",
    "    test_dataloader = DataLoader(\n",
    "                                config.test_dataset,\n",
    "                                batch_size=128,\n",
    "                                num_workers=0,\n",
    "                                shuffle=False,\n",
    "                                sampler=SequentialSampler(config.test_dataset),\n",
    "                                drop_last=False,\n",
    "                                pin_memory=True)\n",
    "\n",
    "\n",
    "    valid_preds = []\n",
    "    valid_labels = []\n",
    "    test_preds = []\n",
    "\n",
    "    model.eval()\n",
    "    with torch.no_grad():\n",
    "        for idx, batch in tqdm(enumerate(valid_dataloader)):\n",
    "            batch = {k: v.to('mps') for k, v in batch.items()}\n",
    "            pred = model(batch['img'])\n",
    "            \n",
    "            valid_preds += [pred.clone().detach().cpu()]\n",
    "        \n",
    "        for idx, batch in tqdm(enumerate(test_dataloader)):\n",
    "            batch = {k: v.to('mps') for k, v in batch.items()}\n",
    "            pred = model(batch['img'])\n",
    "            \n",
    "            test_preds += [pred.clone().detach().cpu()]\n",
    "            \n",
    "    valid_preds_fold[fold] = valid_preds\n",
    "    test_preds_fold[fold] = test_preds\n",
    "    # break"
   ]
  },
  {
   "cell_type": "code",
   "execution_count": 198,
   "metadata": {},
   "outputs": [
    {
     "name": "stdout",
     "output_type": "stream",
     "text": [
      "start fold : 0\n",
      "start fold : 1\n",
      "start fold : 2\n",
      "start fold : 3\n",
      "start fold : 4\n"
     ]
    }
   ],
   "source": [
    "b0_oof = np.zeros(len(df_train))\n",
    "\n",
    "for fold in config.train_params.selected_folds:\n",
    "    print('start fold :', fold)\n",
    "\n",
    "    b0_oof[splits[fold][1]] = torch.sigmoid(torch.tensor(np.concatenate(valid_preds_fold[fold]))).numpy()[:, 1]"
   ]
  },
  {
   "cell_type": "code",
   "execution_count": 175,
   "metadata": {},
   "outputs": [],
   "source": [
    "labels = np.concatenate([vv for v in valid_labels_fold.values() for vv in v])\n",
    "valids = np.concatenate([torch.sigmoid(vv[:, 1]) for v in valid_preds_fold.values() for vv in v])"
   ]
  },
  {
   "cell_type": "code",
   "execution_count": 203,
   "metadata": {},
   "outputs": [
    {
     "data": {
      "text/plain": [
       "0.8439681748542947"
      ]
     },
     "execution_count": 203,
     "metadata": {},
     "output_type": "execute_result"
    }
   ],
   "source": [
    "from sklearn.metrics import f1_score\n",
    "f1_score(\n",
    "        df_train['N_category'],\n",
    "        (b0_oof*0.01 + cat_oof*0.99).round(),\n",
    "        average='weighted')"
   ]
  },
  {
   "cell_type": "code",
   "execution_count": 199,
   "metadata": {},
   "outputs": [
    {
     "data": {
      "text/plain": [
       "0.7196503586065573"
      ]
     },
     "execution_count": 199,
     "metadata": {},
     "output_type": "execute_result"
    }
   ],
   "source": [
    "from sklearn.metrics import f1_score\n",
    "f1_score(\n",
    "        df_train['N_category'],\n",
    "        b0_oof.round(),\n",
    "        average='weighted')"
   ]
  },
  {
   "cell_type": "code",
   "execution_count": 200,
   "metadata": {},
   "outputs": [
    {
     "data": {
      "text/plain": [
       "0.8449744243606091"
      ]
     },
     "execution_count": 200,
     "metadata": {},
     "output_type": "execute_result"
    }
   ],
   "source": [
    "from sklearn.metrics import f1_score\n",
    "f1_score(\n",
    "        df_train['N_category'],\n",
    "        cat_oof.round(),\n",
    "        average='weighted')"
   ]
  },
  {
   "cell_type": "code",
   "execution_count": null,
   "metadata": {},
   "outputs": [],
   "source": []
  },
  {
   "cell_type": "code",
   "execution_count": 188,
   "metadata": {},
   "outputs": [],
   "source": [
    "# sub['N_category'] = np.mean([np.concatenate(p) for p in test_preds_fold.values()], 0).argmax(1)\n",
    "\n",
    "# sub['N_category'] = np.mean([torch.sigmoid(torch.cat(p)).numpy() for p in test_preds_fold.values()], 0).argmax(1)\n",
    "\n",
    "sub['N_category'] = (b0_preds*0.1 + cat_pred*0.9).round()"
   ]
  },
  {
   "cell_type": "code",
   "execution_count": 189,
   "metadata": {},
   "outputs": [],
   "source": [
    "sub.to_csv('../submit/b0_1__cat_9.csv', index=False)"
   ]
  },
  {
   "cell_type": "code",
   "execution_count": 146,
   "metadata": {},
   "outputs": [],
   "source": [
    "cat_oof = np.load('../submit/cat_oof.npy')\n",
    "cat_pred = np.load('../submit/cat_preds.npy')"
   ]
  },
  {
   "cell_type": "code",
   "execution_count": null,
   "metadata": {},
   "outputs": [],
   "source": []
  }
 ],
 "metadata": {
  "kernelspec": {
   "display_name": "Python 3.8.13 ('traffic')",
   "language": "python",
   "name": "python3"
  },
  "language_info": {
   "codemirror_mode": {
    "name": "ipython",
    "version": 3
   },
   "file_extension": ".py",
   "mimetype": "text/x-python",
   "name": "python",
   "nbconvert_exporter": "python",
   "pygments_lexer": "ipython3",
   "version": "3.8.13"
  },
  "orig_nbformat": 4,
  "vscode": {
   "interpreter": {
    "hash": "c3bc5f8aa180f79dc6fbda56bff4e8caaf8fdea0abd59a345cd056711b43be22"
   }
  }
 },
 "nbformat": 4,
 "nbformat_minor": 2
}
